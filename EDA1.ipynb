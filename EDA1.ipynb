{
 "cells": [
  {
   "cell_type": "code",
   "execution_count": 36,
   "id": "5d62d35d",
   "metadata": {
    "ExecuteTime": {
     "end_time": "2022-09-12T07:35:37.850474Z",
     "start_time": "2022-09-12T07:35:37.844684Z"
    }
   },
   "outputs": [],
   "source": [
    "import pandas as pd\n",
    "import numpy as np\n",
    "import warnings"
   ]
  },
  {
   "cell_type": "code",
   "execution_count": 37,
   "id": "1515891a",
   "metadata": {
    "ExecuteTime": {
     "end_time": "2022-09-12T07:35:39.304085Z",
     "start_time": "2022-09-12T07:35:39.293993Z"
    }
   },
   "outputs": [],
   "source": [
    "import seaborn as sns\n",
    "import matplotlib.pyplot as plt\n",
    "%matplotlib inline\n",
    "sns.set()\n",
    "warnings.filterwarnings('ignore')"
   ]
  },
  {
   "cell_type": "code",
   "execution_count": 38,
   "id": "9c722bd5",
   "metadata": {
    "ExecuteTime": {
     "end_time": "2022-09-12T07:35:48.020599Z",
     "start_time": "2022-09-12T07:35:42.213883Z"
    }
   },
   "outputs": [
    {
     "data": {
      "text/html": [
       "<div>\n",
       "<style scoped>\n",
       "    .dataframe tbody tr th:only-of-type {\n",
       "        vertical-align: middle;\n",
       "    }\n",
       "\n",
       "    .dataframe tbody tr th {\n",
       "        vertical-align: top;\n",
       "    }\n",
       "\n",
       "    .dataframe thead th {\n",
       "        text-align: right;\n",
       "    }\n",
       "</style>\n",
       "<table border=\"1\" class=\"dataframe\">\n",
       "  <thead>\n",
       "    <tr style=\"text-align: right;\">\n",
       "      <th></th>\n",
       "      <th>id</th>\n",
       "      <th>Unnamed: 0.1</th>\n",
       "      <th>entity_type</th>\n",
       "      <th>entity_id</th>\n",
       "      <th>parent_id</th>\n",
       "      <th>name</th>\n",
       "      <th>normalized_name</th>\n",
       "      <th>permalink</th>\n",
       "      <th>category_code</th>\n",
       "      <th>status</th>\n",
       "      <th>...</th>\n",
       "      <th>first_milestone_at</th>\n",
       "      <th>last_milestone_at</th>\n",
       "      <th>milestones</th>\n",
       "      <th>relationships</th>\n",
       "      <th>created_by</th>\n",
       "      <th>created_at</th>\n",
       "      <th>updated_at</th>\n",
       "      <th>lat</th>\n",
       "      <th>lng</th>\n",
       "      <th>ROI</th>\n",
       "    </tr>\n",
       "  </thead>\n",
       "  <tbody>\n",
       "    <tr>\n",
       "      <th>0</th>\n",
       "      <td>c:1</td>\n",
       "      <td>0</td>\n",
       "      <td>Company</td>\n",
       "      <td>1</td>\n",
       "      <td>NaN</td>\n",
       "      <td>Wetpaint</td>\n",
       "      <td>wetpaint</td>\n",
       "      <td>/company/wetpaint</td>\n",
       "      <td>web</td>\n",
       "      <td>operating</td>\n",
       "      <td>...</td>\n",
       "      <td>2010-09-05</td>\n",
       "      <td>2013-09-18</td>\n",
       "      <td>5.0</td>\n",
       "      <td>17.0</td>\n",
       "      <td>initial-importer</td>\n",
       "      <td>2007-05-25 06:51:27</td>\n",
       "      <td>2013-04-13 03:29:00</td>\n",
       "      <td>47.606209</td>\n",
       "      <td>-122.332071</td>\n",
       "      <td>15.5</td>\n",
       "    </tr>\n",
       "    <tr>\n",
       "      <th>1</th>\n",
       "      <td>c:10</td>\n",
       "      <td>1</td>\n",
       "      <td>Company</td>\n",
       "      <td>10</td>\n",
       "      <td>NaN</td>\n",
       "      <td>Flektor</td>\n",
       "      <td>flektor</td>\n",
       "      <td>/company/flektor</td>\n",
       "      <td>games_video</td>\n",
       "      <td>acquired</td>\n",
       "      <td>...</td>\n",
       "      <td>NaN</td>\n",
       "      <td>NaN</td>\n",
       "      <td>NaN</td>\n",
       "      <td>6.0</td>\n",
       "      <td>initial-importer</td>\n",
       "      <td>2007-05-31 21:11:51</td>\n",
       "      <td>2008-05-23 23:23:14</td>\n",
       "      <td>34.021122</td>\n",
       "      <td>-118.396467</td>\n",
       "      <td>NaN</td>\n",
       "    </tr>\n",
       "    <tr>\n",
       "      <th>2</th>\n",
       "      <td>c:100</td>\n",
       "      <td>2</td>\n",
       "      <td>Company</td>\n",
       "      <td>100</td>\n",
       "      <td>NaN</td>\n",
       "      <td>There</td>\n",
       "      <td>there</td>\n",
       "      <td>/company/there</td>\n",
       "      <td>games_video</td>\n",
       "      <td>acquired</td>\n",
       "      <td>...</td>\n",
       "      <td>2003-02-01</td>\n",
       "      <td>2011-09-23</td>\n",
       "      <td>4.0</td>\n",
       "      <td>12.0</td>\n",
       "      <td>initial-importer</td>\n",
       "      <td>2007-08-06 23:52:45</td>\n",
       "      <td>2013-11-04 02:09:48</td>\n",
       "      <td>37.562992</td>\n",
       "      <td>-122.325525</td>\n",
       "      <td>NaN</td>\n",
       "    </tr>\n",
       "    <tr>\n",
       "      <th>3</th>\n",
       "      <td>c:10000</td>\n",
       "      <td>3</td>\n",
       "      <td>Company</td>\n",
       "      <td>10000</td>\n",
       "      <td>NaN</td>\n",
       "      <td>MYWEBBO</td>\n",
       "      <td>mywebbo</td>\n",
       "      <td>/company/mywebbo</td>\n",
       "      <td>network_hosting</td>\n",
       "      <td>operating</td>\n",
       "      <td>...</td>\n",
       "      <td>NaN</td>\n",
       "      <td>NaN</td>\n",
       "      <td>NaN</td>\n",
       "      <td>NaN</td>\n",
       "      <td>NaN</td>\n",
       "      <td>2008-08-24 16:51:57</td>\n",
       "      <td>2008-09-06 14:19:18</td>\n",
       "      <td>NaN</td>\n",
       "      <td>NaN</td>\n",
       "      <td>NaN</td>\n",
       "    </tr>\n",
       "    <tr>\n",
       "      <th>4</th>\n",
       "      <td>c:10001</td>\n",
       "      <td>4</td>\n",
       "      <td>Company</td>\n",
       "      <td>10001</td>\n",
       "      <td>NaN</td>\n",
       "      <td>THE Movie Streamer</td>\n",
       "      <td>the movie streamer</td>\n",
       "      <td>/company/the-movie-streamer</td>\n",
       "      <td>games_video</td>\n",
       "      <td>operating</td>\n",
       "      <td>...</td>\n",
       "      <td>NaN</td>\n",
       "      <td>NaN</td>\n",
       "      <td>NaN</td>\n",
       "      <td>NaN</td>\n",
       "      <td>NaN</td>\n",
       "      <td>2008-08-24 17:10:34</td>\n",
       "      <td>2008-09-06 14:19:18</td>\n",
       "      <td>NaN</td>\n",
       "      <td>NaN</td>\n",
       "      <td>NaN</td>\n",
       "    </tr>\n",
       "  </tbody>\n",
       "</table>\n",
       "<p>5 rows × 44 columns</p>\n",
       "</div>"
      ],
      "text/plain": [
       "        id  Unnamed: 0.1 entity_type  entity_id  parent_id  \\\n",
       "0      c:1             0     Company          1        NaN   \n",
       "1     c:10             1     Company         10        NaN   \n",
       "2    c:100             2     Company        100        NaN   \n",
       "3  c:10000             3     Company      10000        NaN   \n",
       "4  c:10001             4     Company      10001        NaN   \n",
       "\n",
       "                 name     normalized_name                    permalink  \\\n",
       "0            Wetpaint            wetpaint            /company/wetpaint   \n",
       "1             Flektor             flektor             /company/flektor   \n",
       "2               There               there               /company/there   \n",
       "3             MYWEBBO             mywebbo             /company/mywebbo   \n",
       "4  THE Movie Streamer  the movie streamer  /company/the-movie-streamer   \n",
       "\n",
       "     category_code     status  ... first_milestone_at last_milestone_at  \\\n",
       "0              web  operating  ...         2010-09-05        2013-09-18   \n",
       "1      games_video   acquired  ...                NaN               NaN   \n",
       "2      games_video   acquired  ...         2003-02-01        2011-09-23   \n",
       "3  network_hosting  operating  ...                NaN               NaN   \n",
       "4      games_video  operating  ...                NaN               NaN   \n",
       "\n",
       "  milestones relationships        created_by           created_at  \\\n",
       "0        5.0          17.0  initial-importer  2007-05-25 06:51:27   \n",
       "1        NaN           6.0  initial-importer  2007-05-31 21:11:51   \n",
       "2        4.0          12.0  initial-importer  2007-08-06 23:52:45   \n",
       "3        NaN           NaN               NaN  2008-08-24 16:51:57   \n",
       "4        NaN           NaN               NaN  2008-08-24 17:10:34   \n",
       "\n",
       "            updated_at        lat         lng   ROI  \n",
       "0  2013-04-13 03:29:00  47.606209 -122.332071  15.5  \n",
       "1  2008-05-23 23:23:14  34.021122 -118.396467   NaN  \n",
       "2  2013-11-04 02:09:48  37.562992 -122.325525   NaN  \n",
       "3  2008-09-06 14:19:18        NaN         NaN   NaN  \n",
       "4  2008-09-06 14:19:18        NaN         NaN   NaN  \n",
       "\n",
       "[5 rows x 44 columns]"
      ]
     },
     "execution_count": 38,
     "metadata": {},
     "output_type": "execute_result"
    }
   ],
   "source": [
    "company = pd.read_csv(r\"C:\\Users\\yy\\Downloads\\companies.csv\")\n",
    "company.head()"
   ]
  },
  {
   "cell_type": "code",
   "execution_count": 39,
   "id": "7074cdd9",
   "metadata": {
    "ExecuteTime": {
     "end_time": "2022-09-12T07:35:49.431926Z",
     "start_time": "2022-09-12T07:35:48.026579Z"
    }
   },
   "outputs": [
    {
     "name": "stdout",
     "output_type": "stream",
     "text": [
      "<class 'pandas.core.frame.DataFrame'>\n",
      "RangeIndex: 196553 entries, 0 to 196552\n",
      "Data columns (total 44 columns):\n",
      " #   Column               Non-Null Count   Dtype  \n",
      "---  ------               --------------   -----  \n",
      " 0   id                   196553 non-null  object \n",
      " 1   Unnamed: 0.1         196553 non-null  int64  \n",
      " 2   entity_type          196553 non-null  object \n",
      " 3   entity_id            196553 non-null  int64  \n",
      " 4   parent_id            0 non-null       float64\n",
      " 5   name                 196531 non-null  object \n",
      " 6   normalized_name      196527 non-null  object \n",
      " 7   permalink            196553 non-null  object \n",
      " 8   category_code        123186 non-null  object \n",
      " 9   status               196553 non-null  object \n",
      " 10  founded_at           91227 non-null   object \n",
      " 11  closed_at            2620 non-null    object \n",
      " 12  domain               126545 non-null  object \n",
      " 13  homepage_url         126545 non-null  object \n",
      " 14  twitter_username     80591 non-null   object \n",
      " 15  logo_url             110110 non-null  object \n",
      " 16  logo_width           110110 non-null  float64\n",
      " 17  logo_height          110110 non-null  float64\n",
      " 18  short_description    7131 non-null    object \n",
      " 19  description          92048 non-null   object \n",
      " 20  overview             126971 non-null  object \n",
      " 21  tag_list             81452 non-null   object \n",
      " 22  country_code         87990 non-null   object \n",
      " 23  state_code           50903 non-null   object \n",
      " 24  city                 83890 non-null   object \n",
      " 25  region               196553 non-null  object \n",
      " 26  first_investment_at  2583 non-null    object \n",
      " 27  last_investment_at   2583 non-null    object \n",
      " 28  investment_rounds    2591 non-null    float64\n",
      " 29  invested_companies   2591 non-null    float64\n",
      " 30  first_funding_at     31507 non-null   object \n",
      " 31  last_funding_at      31507 non-null   object \n",
      " 32  funding_rounds       31707 non-null   float64\n",
      " 33  funding_total_usd    27874 non-null   float64\n",
      " 34  first_milestone_at   91699 non-null   object \n",
      " 35  last_milestone_at    91699 non-null   object \n",
      " 36  milestones           91699 non-null   float64\n",
      " 37  relationships        129667 non-null  float64\n",
      " 38  created_by           155533 non-null  object \n",
      " 39  created_at           196553 non-null  object \n",
      " 40  updated_at           196553 non-null  object \n",
      " 41  lat                  83852 non-null   float64\n",
      " 42  lng                  83852 non-null   float64\n",
      " 43  ROI                  726 non-null     float64\n",
      "dtypes: float64(12), int64(2), object(30)\n",
      "memory usage: 66.0+ MB\n"
     ]
    }
   ],
   "source": [
    "company.info()"
   ]
  },
  {
   "cell_type": "code",
   "execution_count": 40,
   "id": "3453baed",
   "metadata": {
    "ExecuteTime": {
     "end_time": "2022-09-12T07:35:49.446855Z",
     "start_time": "2022-09-12T07:35:49.437261Z"
    }
   },
   "outputs": [
    {
     "data": {
      "text/plain": [
       "(196553, 44)"
      ]
     },
     "execution_count": 40,
     "metadata": {},
     "output_type": "execute_result"
    }
   ],
   "source": [
    "company.shape"
   ]
  },
  {
   "cell_type": "code",
   "execution_count": 41,
   "id": "ebd4bff7",
   "metadata": {
    "ExecuteTime": {
     "end_time": "2022-09-12T07:35:50.233227Z",
     "start_time": "2022-09-12T07:35:49.456816Z"
    }
   },
   "outputs": [
    {
     "data": {
      "text/html": [
       "<div>\n",
       "<style scoped>\n",
       "    .dataframe tbody tr th:only-of-type {\n",
       "        vertical-align: middle;\n",
       "    }\n",
       "\n",
       "    .dataframe tbody tr th {\n",
       "        vertical-align: top;\n",
       "    }\n",
       "\n",
       "    .dataframe thead th {\n",
       "        text-align: right;\n",
       "    }\n",
       "</style>\n",
       "<table border=\"1\" class=\"dataframe\">\n",
       "  <thead>\n",
       "    <tr style=\"text-align: right;\">\n",
       "      <th></th>\n",
       "      <th>count</th>\n",
       "      <th>mean</th>\n",
       "      <th>std</th>\n",
       "      <th>min</th>\n",
       "      <th>25%</th>\n",
       "      <th>50%</th>\n",
       "      <th>75%</th>\n",
       "      <th>max</th>\n",
       "    </tr>\n",
       "  </thead>\n",
       "  <tbody>\n",
       "    <tr>\n",
       "      <th>Unnamed: 0.1</th>\n",
       "      <td>196553.0</td>\n",
       "      <td>9.827600e+04</td>\n",
       "      <td>5.674011e+04</td>\n",
       "      <td>0.000000</td>\n",
       "      <td>49138.000000</td>\n",
       "      <td>9.827600e+04</td>\n",
       "      <td>1.474140e+05</td>\n",
       "      <td>1.965520e+05</td>\n",
       "    </tr>\n",
       "    <tr>\n",
       "      <th>entity_id</th>\n",
       "      <td>196553.0</td>\n",
       "      <td>1.530062e+05</td>\n",
       "      <td>9.020925e+04</td>\n",
       "      <td>1.000000</td>\n",
       "      <td>59850.000000</td>\n",
       "      <td>1.745390e+05</td>\n",
       "      <td>2.326550e+05</td>\n",
       "      <td>2.862150e+05</td>\n",
       "    </tr>\n",
       "    <tr>\n",
       "      <th>parent_id</th>\n",
       "      <td>0.0</td>\n",
       "      <td>NaN</td>\n",
       "      <td>NaN</td>\n",
       "      <td>NaN</td>\n",
       "      <td>NaN</td>\n",
       "      <td>NaN</td>\n",
       "      <td>NaN</td>\n",
       "      <td>NaN</td>\n",
       "    </tr>\n",
       "    <tr>\n",
       "      <th>logo_width</th>\n",
       "      <td>110110.0</td>\n",
       "      <td>4.591327e+02</td>\n",
       "      <td>5.949826e+02</td>\n",
       "      <td>1.000000</td>\n",
       "      <td>192.000000</td>\n",
       "      <td>2.670000e+02</td>\n",
       "      <td>4.840000e+02</td>\n",
       "      <td>1.820000e+04</td>\n",
       "    </tr>\n",
       "    <tr>\n",
       "      <th>logo_height</th>\n",
       "      <td>110110.0</td>\n",
       "      <td>2.227289e+02</td>\n",
       "      <td>3.330907e+02</td>\n",
       "      <td>1.000000</td>\n",
       "      <td>70.000000</td>\n",
       "      <td>1.050000e+02</td>\n",
       "      <td>2.320000e+02</td>\n",
       "      <td>9.600000e+03</td>\n",
       "    </tr>\n",
       "    <tr>\n",
       "      <th>investment_rounds</th>\n",
       "      <td>2591.0</td>\n",
       "      <td>2.372057e+00</td>\n",
       "      <td>1.217351e+01</td>\n",
       "      <td>1.000000</td>\n",
       "      <td>1.000000</td>\n",
       "      <td>1.000000e+00</td>\n",
       "      <td>1.000000e+00</td>\n",
       "      <td>4.780000e+02</td>\n",
       "    </tr>\n",
       "    <tr>\n",
       "      <th>invested_companies</th>\n",
       "      <td>2591.0</td>\n",
       "      <td>2.204940e+00</td>\n",
       "      <td>1.143695e+01</td>\n",
       "      <td>1.000000</td>\n",
       "      <td>1.000000</td>\n",
       "      <td>1.000000e+00</td>\n",
       "      <td>1.000000e+00</td>\n",
       "      <td>4.590000e+02</td>\n",
       "    </tr>\n",
       "    <tr>\n",
       "      <th>funding_rounds</th>\n",
       "      <td>31707.0</td>\n",
       "      <td>1.659760e+00</td>\n",
       "      <td>1.201666e+00</td>\n",
       "      <td>1.000000</td>\n",
       "      <td>1.000000</td>\n",
       "      <td>1.000000e+00</td>\n",
       "      <td>2.000000e+00</td>\n",
       "      <td>1.500000e+01</td>\n",
       "    </tr>\n",
       "    <tr>\n",
       "      <th>funding_total_usd</th>\n",
       "      <td>27874.0</td>\n",
       "      <td>1.481652e+07</td>\n",
       "      <td>6.775937e+07</td>\n",
       "      <td>291.000000</td>\n",
       "      <td>500000.000000</td>\n",
       "      <td>2.564500e+06</td>\n",
       "      <td>1.100000e+07</td>\n",
       "      <td>5.700000e+09</td>\n",
       "    </tr>\n",
       "    <tr>\n",
       "      <th>milestones</th>\n",
       "      <td>91699.0</td>\n",
       "      <td>1.199402e+00</td>\n",
       "      <td>5.400989e-01</td>\n",
       "      <td>1.000000</td>\n",
       "      <td>1.000000</td>\n",
       "      <td>1.000000e+00</td>\n",
       "      <td>1.000000e+00</td>\n",
       "      <td>9.000000e+00</td>\n",
       "    </tr>\n",
       "    <tr>\n",
       "      <th>relationships</th>\n",
       "      <td>129667.0</td>\n",
       "      <td>2.852067e+00</td>\n",
       "      <td>9.100309e+00</td>\n",
       "      <td>1.000000</td>\n",
       "      <td>1.000000</td>\n",
       "      <td>1.000000e+00</td>\n",
       "      <td>3.000000e+00</td>\n",
       "      <td>1.189000e+03</td>\n",
       "    </tr>\n",
       "    <tr>\n",
       "      <th>lat</th>\n",
       "      <td>83852.0</td>\n",
       "      <td>3.756451e+01</td>\n",
       "      <td>1.547710e+01</td>\n",
       "      <td>-50.942326</td>\n",
       "      <td>34.052234</td>\n",
       "      <td>3.976840e+01</td>\n",
       "      <td>4.542153e+01</td>\n",
       "      <td>7.755360e+01</td>\n",
       "    </tr>\n",
       "    <tr>\n",
       "      <th>lng</th>\n",
       "      <td>83852.0</td>\n",
       "      <td>-5.212307e+01</td>\n",
       "      <td>7.004907e+01</td>\n",
       "      <td>-159.497746</td>\n",
       "      <td>-111.940005</td>\n",
       "      <td>-7.703687e+01</td>\n",
       "      <td>-1.277583e-01</td>\n",
       "      <td>1.762125e+02</td>\n",
       "    </tr>\n",
       "    <tr>\n",
       "      <th>ROI</th>\n",
       "      <td>726.0</td>\n",
       "      <td>4.574504e+01</td>\n",
       "      <td>5.720356e+02</td>\n",
       "      <td>0.011111</td>\n",
       "      <td>2.648879</td>\n",
       "      <td>6.500497e+00</td>\n",
       "      <td>1.354990e+01</td>\n",
       "      <td>1.333333e+04</td>\n",
       "    </tr>\n",
       "  </tbody>\n",
       "</table>\n",
       "</div>"
      ],
      "text/plain": [
       "                       count          mean           std         min  \\\n",
       "Unnamed: 0.1        196553.0  9.827600e+04  5.674011e+04    0.000000   \n",
       "entity_id           196553.0  1.530062e+05  9.020925e+04    1.000000   \n",
       "parent_id                0.0           NaN           NaN         NaN   \n",
       "logo_width          110110.0  4.591327e+02  5.949826e+02    1.000000   \n",
       "logo_height         110110.0  2.227289e+02  3.330907e+02    1.000000   \n",
       "investment_rounds     2591.0  2.372057e+00  1.217351e+01    1.000000   \n",
       "invested_companies    2591.0  2.204940e+00  1.143695e+01    1.000000   \n",
       "funding_rounds       31707.0  1.659760e+00  1.201666e+00    1.000000   \n",
       "funding_total_usd    27874.0  1.481652e+07  6.775937e+07  291.000000   \n",
       "milestones           91699.0  1.199402e+00  5.400989e-01    1.000000   \n",
       "relationships       129667.0  2.852067e+00  9.100309e+00    1.000000   \n",
       "lat                  83852.0  3.756451e+01  1.547710e+01  -50.942326   \n",
       "lng                  83852.0 -5.212307e+01  7.004907e+01 -159.497746   \n",
       "ROI                    726.0  4.574504e+01  5.720356e+02    0.011111   \n",
       "\n",
       "                              25%           50%           75%           max  \n",
       "Unnamed: 0.1         49138.000000  9.827600e+04  1.474140e+05  1.965520e+05  \n",
       "entity_id            59850.000000  1.745390e+05  2.326550e+05  2.862150e+05  \n",
       "parent_id                     NaN           NaN           NaN           NaN  \n",
       "logo_width             192.000000  2.670000e+02  4.840000e+02  1.820000e+04  \n",
       "logo_height             70.000000  1.050000e+02  2.320000e+02  9.600000e+03  \n",
       "investment_rounds        1.000000  1.000000e+00  1.000000e+00  4.780000e+02  \n",
       "invested_companies       1.000000  1.000000e+00  1.000000e+00  4.590000e+02  \n",
       "funding_rounds           1.000000  1.000000e+00  2.000000e+00  1.500000e+01  \n",
       "funding_total_usd   500000.000000  2.564500e+06  1.100000e+07  5.700000e+09  \n",
       "milestones               1.000000  1.000000e+00  1.000000e+00  9.000000e+00  \n",
       "relationships            1.000000  1.000000e+00  3.000000e+00  1.189000e+03  \n",
       "lat                     34.052234  3.976840e+01  4.542153e+01  7.755360e+01  \n",
       "lng                   -111.940005 -7.703687e+01 -1.277583e-01  1.762125e+02  \n",
       "ROI                      2.648879  6.500497e+00  1.354990e+01  1.333333e+04  "
      ]
     },
     "execution_count": 41,
     "metadata": {},
     "output_type": "execute_result"
    }
   ],
   "source": [
    "company.describe().T"
   ]
  },
  {
   "cell_type": "code",
   "execution_count": 42,
   "id": "fc1a1342",
   "metadata": {
    "ExecuteTime": {
     "end_time": "2022-09-12T07:35:50.248389Z",
     "start_time": "2022-09-12T07:35:50.238209Z"
    }
   },
   "outputs": [
    {
     "data": {
      "text/plain": [
       "Index(['id', 'Unnamed: 0.1', 'entity_type', 'entity_id', 'parent_id', 'name',\n",
       "       'normalized_name', 'permalink', 'category_code', 'status', 'founded_at',\n",
       "       'closed_at', 'domain', 'homepage_url', 'twitter_username', 'logo_url',\n",
       "       'logo_width', 'logo_height', 'short_description', 'description',\n",
       "       'overview', 'tag_list', 'country_code', 'state_code', 'city', 'region',\n",
       "       'first_investment_at', 'last_investment_at', 'investment_rounds',\n",
       "       'invested_companies', 'first_funding_at', 'last_funding_at',\n",
       "       'funding_rounds', 'funding_total_usd', 'first_milestone_at',\n",
       "       'last_milestone_at', 'milestones', 'relationships', 'created_by',\n",
       "       'created_at', 'updated_at', 'lat', 'lng', 'ROI'],\n",
       "      dtype='object')"
      ]
     },
     "execution_count": 42,
     "metadata": {},
     "output_type": "execute_result"
    }
   ],
   "source": [
    "company.columns"
   ]
  },
  {
   "cell_type": "code",
   "execution_count": 43,
   "id": "ce40d44a",
   "metadata": {
    "ExecuteTime": {
     "end_time": "2022-09-12T07:35:51.972288Z",
     "start_time": "2022-09-12T07:35:50.253803Z"
    }
   },
   "outputs": [
    {
     "data": {
      "text/plain": [
       "id                          0\n",
       "Unnamed: 0.1                0\n",
       "entity_type                 0\n",
       "entity_id                   0\n",
       "parent_id              196553\n",
       "name                       22\n",
       "normalized_name            26\n",
       "permalink                   0\n",
       "category_code           73367\n",
       "status                      0\n",
       "founded_at             105326\n",
       "closed_at              193933\n",
       "domain                  70008\n",
       "homepage_url            70008\n",
       "twitter_username       115962\n",
       "logo_url                86443\n",
       "logo_width              86443\n",
       "logo_height             86443\n",
       "short_description      189422\n",
       "description            104505\n",
       "overview                69582\n",
       "tag_list               115101\n",
       "country_code           108563\n",
       "state_code             145650\n",
       "city                   112663\n",
       "region                      0\n",
       "first_investment_at    193970\n",
       "last_investment_at     193970\n",
       "investment_rounds      193962\n",
       "invested_companies     193962\n",
       "first_funding_at       165046\n",
       "last_funding_at        165046\n",
       "funding_rounds         164846\n",
       "funding_total_usd      168679\n",
       "first_milestone_at     104854\n",
       "last_milestone_at      104854\n",
       "milestones             104854\n",
       "relationships           66886\n",
       "created_by              41020\n",
       "created_at                  0\n",
       "updated_at                  0\n",
       "lat                    112701\n",
       "lng                    112701\n",
       "ROI                    195827\n",
       "dtype: int64"
      ]
     },
     "execution_count": 43,
     "metadata": {},
     "output_type": "execute_result"
    }
   ],
   "source": [
    "company.isnull().sum()"
   ]
  },
  {
   "cell_type": "code",
   "execution_count": 44,
   "id": "89e63a4b",
   "metadata": {
    "ExecuteTime": {
     "end_time": "2022-09-12T07:35:51.988504Z",
     "start_time": "2022-09-12T07:35:51.976744Z"
    }
   },
   "outputs": [],
   "source": [
    "unwanted_columns = ['id', 'Unnamed: 0.1', 'entity_type', 'entity_id', 'parent_id', 'founded_at', 'closed_at', 'domain',\n",
    "                      'homepage_url', 'twitter_username', 'short_description', 'first_milestone_at', 'last_milestone_at',\n",
    "                      'description', 'overview', 'tag_list', 'country_code', 'state_code', 'city', 'first_investment_at',\n",
    "                      'last_investment_at', 'first_funding_at', 'last_funding_at', 'logo_url', 'created_by', 'ROI', 'name', 'normalized_name']"
   ]
  },
  {
   "cell_type": "code",
   "execution_count": 45,
   "id": "3801f44b",
   "metadata": {
    "ExecuteTime": {
     "end_time": "2022-09-12T07:35:52.156781Z",
     "start_time": "2022-09-12T07:35:51.995484Z"
    }
   },
   "outputs": [
    {
     "data": {
      "text/plain": [
       "array([3.97500e+07,         nan, 5.00000e+06, ..., 2.86500e+08,\n",
       "       7.98679e+05, 4.11150e+06])"
      ]
     },
     "execution_count": 45,
     "metadata": {},
     "output_type": "execute_result"
    }
   ],
   "source": [
    "company.funding_total_usd.unique()\n"
   ]
  },
  {
   "cell_type": "code",
   "execution_count": 46,
   "id": "11cdb786",
   "metadata": {
    "ExecuteTime": {
     "end_time": "2022-09-12T07:35:52.319204Z",
     "start_time": "2022-09-12T07:35:52.168555Z"
    }
   },
   "outputs": [
    {
     "data": {
      "text/plain": [
       "array(['initial-importer', nan, 'dmurtagh', ..., 'hypercube',\n",
       "       'facebookuser586781305', 'rchowdhury'], dtype=object)"
      ]
     },
     "execution_count": 46,
     "metadata": {},
     "output_type": "execute_result"
    }
   ],
   "source": [
    "company.created_by.unique()"
   ]
  },
  {
   "cell_type": "code",
   "execution_count": 47,
   "id": "5e8189ce",
   "metadata": {
    "ExecuteTime": {
     "end_time": "2022-09-12T07:35:52.424629Z",
     "start_time": "2022-09-12T07:35:52.333059Z"
    }
   },
   "outputs": [
    {
     "data": {
      "text/plain": [
       "196553"
      ]
     },
     "execution_count": 47,
     "metadata": {},
     "output_type": "execute_result"
    }
   ],
   "source": [
    "len(company)"
   ]
  },
  {
   "cell_type": "code",
   "execution_count": 48,
   "id": "d35b2905",
   "metadata": {
    "ExecuteTime": {
     "end_time": "2022-09-12T07:35:54.165553Z",
     "start_time": "2022-09-12T07:35:52.432372Z"
    }
   },
   "outputs": [
    {
     "name": "stdout",
     "output_type": "stream",
     "text": [
      "id, 196553\n",
      "Unnamed: 0.1, 196553\n",
      "entity_type, 1\n",
      "entity_id, 196553\n",
      "parent_id, 0\n",
      "name, 196348\n",
      "normalized_name, 195451\n",
      "permalink, 196512\n",
      "category_code, 42\n",
      "status, 4\n",
      "founded_at, 6156\n",
      "closed_at, 925\n",
      "domain, 125498\n",
      "homepage_url, 125961\n",
      "twitter_username, 79571\n",
      "logo_url, 110110\n",
      "logo_width, 3325\n",
      "logo_height, 2128\n",
      "short_description, 7126\n",
      "description, 83696\n",
      "overview, 126515\n",
      "tag_list, 79133\n",
      "country_code, 175\n",
      "state_code, 51\n",
      "city, 10652\n",
      "region, 5847\n",
      "first_investment_at, 1197\n",
      "last_investment_at, 1105\n",
      "investment_rounds, 41\n",
      "invested_companies, 37\n",
      "first_funding_at, 3208\n",
      "last_funding_at, 2978\n",
      "funding_rounds, 15\n",
      "funding_total_usd, 9720\n",
      "first_milestone_at, 4080\n",
      "last_milestone_at, 3966\n",
      "milestones, 9\n",
      "relationships, 155\n",
      "created_by, 55329\n",
      "created_at, 182851\n",
      "updated_at, 183558\n",
      "lat, 7962\n",
      "lng, 7954\n",
      "ROI, 657\n"
     ]
    }
   ],
   "source": [
    "for col in company.columns:\n",
    "    print(f'{col}, {company[col].nunique()}')"
   ]
  },
  {
   "cell_type": "code",
   "execution_count": 49,
   "id": "9579e9ef",
   "metadata": {
    "ExecuteTime": {
     "end_time": "2022-09-12T07:35:54.211425Z",
     "start_time": "2022-09-12T07:35:54.170647Z"
    }
   },
   "outputs": [],
   "source": [
    "company.drop(labels=unwanted_columns, axis=1, inplace=True)"
   ]
  },
  {
   "cell_type": "code",
   "execution_count": 50,
   "id": "06b8c885",
   "metadata": {
    "ExecuteTime": {
     "end_time": "2022-09-12T07:35:54.351703Z",
     "start_time": "2022-09-12T07:35:54.216643Z"
    }
   },
   "outputs": [
    {
     "data": {
      "text/html": [
       "<div>\n",
       "<style scoped>\n",
       "    .dataframe tbody tr th:only-of-type {\n",
       "        vertical-align: middle;\n",
       "    }\n",
       "\n",
       "    .dataframe tbody tr th {\n",
       "        vertical-align: top;\n",
       "    }\n",
       "\n",
       "    .dataframe thead th {\n",
       "        text-align: right;\n",
       "    }\n",
       "</style>\n",
       "<table border=\"1\" class=\"dataframe\">\n",
       "  <thead>\n",
       "    <tr style=\"text-align: right;\">\n",
       "      <th></th>\n",
       "      <th>permalink</th>\n",
       "      <th>category_code</th>\n",
       "      <th>status</th>\n",
       "      <th>logo_width</th>\n",
       "      <th>logo_height</th>\n",
       "      <th>region</th>\n",
       "      <th>investment_rounds</th>\n",
       "      <th>invested_companies</th>\n",
       "      <th>funding_rounds</th>\n",
       "      <th>funding_total_usd</th>\n",
       "      <th>milestones</th>\n",
       "      <th>relationships</th>\n",
       "      <th>created_at</th>\n",
       "      <th>updated_at</th>\n",
       "      <th>lat</th>\n",
       "      <th>lng</th>\n",
       "    </tr>\n",
       "  </thead>\n",
       "  <tbody>\n",
       "    <tr>\n",
       "      <th>0</th>\n",
       "      <td>/company/wetpaint</td>\n",
       "      <td>web</td>\n",
       "      <td>operating</td>\n",
       "      <td>401.0</td>\n",
       "      <td>54.0</td>\n",
       "      <td>Seattle</td>\n",
       "      <td>NaN</td>\n",
       "      <td>NaN</td>\n",
       "      <td>3.0</td>\n",
       "      <td>39750000.0</td>\n",
       "      <td>5.0</td>\n",
       "      <td>17.0</td>\n",
       "      <td>2007-05-25 06:51:27</td>\n",
       "      <td>2013-04-13 03:29:00</td>\n",
       "      <td>47.606209</td>\n",
       "      <td>-122.332071</td>\n",
       "    </tr>\n",
       "    <tr>\n",
       "      <th>1</th>\n",
       "      <td>/company/flektor</td>\n",
       "      <td>games_video</td>\n",
       "      <td>acquired</td>\n",
       "      <td>186.0</td>\n",
       "      <td>85.0</td>\n",
       "      <td>Los Angeles</td>\n",
       "      <td>NaN</td>\n",
       "      <td>NaN</td>\n",
       "      <td>NaN</td>\n",
       "      <td>NaN</td>\n",
       "      <td>NaN</td>\n",
       "      <td>6.0</td>\n",
       "      <td>2007-05-31 21:11:51</td>\n",
       "      <td>2008-05-23 23:23:14</td>\n",
       "      <td>34.021122</td>\n",
       "      <td>-118.396467</td>\n",
       "    </tr>\n",
       "    <tr>\n",
       "      <th>2</th>\n",
       "      <td>/company/there</td>\n",
       "      <td>games_video</td>\n",
       "      <td>acquired</td>\n",
       "      <td>107.0</td>\n",
       "      <td>34.0</td>\n",
       "      <td>SF Bay</td>\n",
       "      <td>NaN</td>\n",
       "      <td>NaN</td>\n",
       "      <td>NaN</td>\n",
       "      <td>NaN</td>\n",
       "      <td>4.0</td>\n",
       "      <td>12.0</td>\n",
       "      <td>2007-08-06 23:52:45</td>\n",
       "      <td>2013-11-04 02:09:48</td>\n",
       "      <td>37.562992</td>\n",
       "      <td>-122.325525</td>\n",
       "    </tr>\n",
       "    <tr>\n",
       "      <th>3</th>\n",
       "      <td>/company/mywebbo</td>\n",
       "      <td>network_hosting</td>\n",
       "      <td>operating</td>\n",
       "      <td>NaN</td>\n",
       "      <td>NaN</td>\n",
       "      <td>unknown</td>\n",
       "      <td>NaN</td>\n",
       "      <td>NaN</td>\n",
       "      <td>NaN</td>\n",
       "      <td>NaN</td>\n",
       "      <td>NaN</td>\n",
       "      <td>NaN</td>\n",
       "      <td>2008-08-24 16:51:57</td>\n",
       "      <td>2008-09-06 14:19:18</td>\n",
       "      <td>NaN</td>\n",
       "      <td>NaN</td>\n",
       "    </tr>\n",
       "    <tr>\n",
       "      <th>4</th>\n",
       "      <td>/company/the-movie-streamer</td>\n",
       "      <td>games_video</td>\n",
       "      <td>operating</td>\n",
       "      <td>200.0</td>\n",
       "      <td>74.0</td>\n",
       "      <td>unknown</td>\n",
       "      <td>NaN</td>\n",
       "      <td>NaN</td>\n",
       "      <td>NaN</td>\n",
       "      <td>NaN</td>\n",
       "      <td>NaN</td>\n",
       "      <td>NaN</td>\n",
       "      <td>2008-08-24 17:10:34</td>\n",
       "      <td>2008-09-06 14:19:18</td>\n",
       "      <td>NaN</td>\n",
       "      <td>NaN</td>\n",
       "    </tr>\n",
       "    <tr>\n",
       "      <th>...</th>\n",
       "      <td>...</td>\n",
       "      <td>...</td>\n",
       "      <td>...</td>\n",
       "      <td>...</td>\n",
       "      <td>...</td>\n",
       "      <td>...</td>\n",
       "      <td>...</td>\n",
       "      <td>...</td>\n",
       "      <td>...</td>\n",
       "      <td>...</td>\n",
       "      <td>...</td>\n",
       "      <td>...</td>\n",
       "      <td>...</td>\n",
       "      <td>...</td>\n",
       "      <td>...</td>\n",
       "      <td>...</td>\n",
       "    </tr>\n",
       "    <tr>\n",
       "      <th>196548</th>\n",
       "      <td>/company/webgility</td>\n",
       "      <td>ecommerce</td>\n",
       "      <td>operating</td>\n",
       "      <td>200.0</td>\n",
       "      <td>54.0</td>\n",
       "      <td>SF Bay</td>\n",
       "      <td>NaN</td>\n",
       "      <td>NaN</td>\n",
       "      <td>NaN</td>\n",
       "      <td>NaN</td>\n",
       "      <td>2.0</td>\n",
       "      <td>5.0</td>\n",
       "      <td>2011-09-06 23:17:56</td>\n",
       "      <td>2013-08-13 00:39:13</td>\n",
       "      <td>37.774929</td>\n",
       "      <td>-122.419415</td>\n",
       "    </tr>\n",
       "    <tr>\n",
       "      <th>196549</th>\n",
       "      <td>/company/fohboh</td>\n",
       "      <td>public_relations</td>\n",
       "      <td>operating</td>\n",
       "      <td>518.0</td>\n",
       "      <td>267.0</td>\n",
       "      <td>SF Bay</td>\n",
       "      <td>NaN</td>\n",
       "      <td>NaN</td>\n",
       "      <td>1.0</td>\n",
       "      <td>750000.0</td>\n",
       "      <td>1.0</td>\n",
       "      <td>14.0</td>\n",
       "      <td>2008-08-24 15:46:26</td>\n",
       "      <td>2013-06-28 20:55:30</td>\n",
       "      <td>37.338208</td>\n",
       "      <td>-121.886329</td>\n",
       "    </tr>\n",
       "    <tr>\n",
       "      <th>196550</th>\n",
       "      <td>/company/csc</td>\n",
       "      <td>consulting</td>\n",
       "      <td>operating</td>\n",
       "      <td>60.0</td>\n",
       "      <td>33.0</td>\n",
       "      <td>Washington DC</td>\n",
       "      <td>NaN</td>\n",
       "      <td>NaN</td>\n",
       "      <td>NaN</td>\n",
       "      <td>NaN</td>\n",
       "      <td>3.0</td>\n",
       "      <td>44.0</td>\n",
       "      <td>2008-08-24 15:46:58</td>\n",
       "      <td>2013-06-28 20:52:01</td>\n",
       "      <td>38.882334</td>\n",
       "      <td>-77.171091</td>\n",
       "    </tr>\n",
       "    <tr>\n",
       "      <th>196551</th>\n",
       "      <td>/company/top-candidate</td>\n",
       "      <td>search</td>\n",
       "      <td>operating</td>\n",
       "      <td>230.0</td>\n",
       "      <td>86.0</td>\n",
       "      <td>Los Angeles</td>\n",
       "      <td>NaN</td>\n",
       "      <td>NaN</td>\n",
       "      <td>NaN</td>\n",
       "      <td>NaN</td>\n",
       "      <td>NaN</td>\n",
       "      <td>1.0</td>\n",
       "      <td>2008-08-24 16:00:22</td>\n",
       "      <td>2013-06-28 20:56:44</td>\n",
       "      <td>34.052234</td>\n",
       "      <td>-118.243685</td>\n",
       "    </tr>\n",
       "    <tr>\n",
       "      <th>196552</th>\n",
       "      <td>/company/closet-couture</td>\n",
       "      <td>ecommerce</td>\n",
       "      <td>operating</td>\n",
       "      <td>510.0</td>\n",
       "      <td>38.0</td>\n",
       "      <td>Pacific Palisades</td>\n",
       "      <td>NaN</td>\n",
       "      <td>NaN</td>\n",
       "      <td>1.0</td>\n",
       "      <td>475000.0</td>\n",
       "      <td>2.0</td>\n",
       "      <td>1.0</td>\n",
       "      <td>2008-08-24 16:46:13</td>\n",
       "      <td>2013-03-23 12:01:50</td>\n",
       "      <td>34.035633</td>\n",
       "      <td>-118.515590</td>\n",
       "    </tr>\n",
       "  </tbody>\n",
       "</table>\n",
       "<p>196553 rows × 16 columns</p>\n",
       "</div>"
      ],
      "text/plain": [
       "                          permalink     category_code     status  logo_width  \\\n",
       "0                 /company/wetpaint               web  operating       401.0   \n",
       "1                  /company/flektor       games_video   acquired       186.0   \n",
       "2                    /company/there       games_video   acquired       107.0   \n",
       "3                  /company/mywebbo   network_hosting  operating         NaN   \n",
       "4       /company/the-movie-streamer       games_video  operating       200.0   \n",
       "...                             ...               ...        ...         ...   \n",
       "196548           /company/webgility         ecommerce  operating       200.0   \n",
       "196549              /company/fohboh  public_relations  operating       518.0   \n",
       "196550                 /company/csc        consulting  operating        60.0   \n",
       "196551       /company/top-candidate            search  operating       230.0   \n",
       "196552      /company/closet-couture         ecommerce  operating       510.0   \n",
       "\n",
       "        logo_height             region  investment_rounds  invested_companies  \\\n",
       "0              54.0            Seattle                NaN                 NaN   \n",
       "1              85.0        Los Angeles                NaN                 NaN   \n",
       "2              34.0             SF Bay                NaN                 NaN   \n",
       "3               NaN            unknown                NaN                 NaN   \n",
       "4              74.0            unknown                NaN                 NaN   \n",
       "...             ...                ...                ...                 ...   \n",
       "196548         54.0             SF Bay                NaN                 NaN   \n",
       "196549        267.0             SF Bay                NaN                 NaN   \n",
       "196550         33.0      Washington DC                NaN                 NaN   \n",
       "196551         86.0        Los Angeles                NaN                 NaN   \n",
       "196552         38.0  Pacific Palisades                NaN                 NaN   \n",
       "\n",
       "        funding_rounds  funding_total_usd  milestones  relationships  \\\n",
       "0                  3.0         39750000.0         5.0           17.0   \n",
       "1                  NaN                NaN         NaN            6.0   \n",
       "2                  NaN                NaN         4.0           12.0   \n",
       "3                  NaN                NaN         NaN            NaN   \n",
       "4                  NaN                NaN         NaN            NaN   \n",
       "...                ...                ...         ...            ...   \n",
       "196548             NaN                NaN         2.0            5.0   \n",
       "196549             1.0           750000.0         1.0           14.0   \n",
       "196550             NaN                NaN         3.0           44.0   \n",
       "196551             NaN                NaN         NaN            1.0   \n",
       "196552             1.0           475000.0         2.0            1.0   \n",
       "\n",
       "                 created_at           updated_at        lat         lng  \n",
       "0       2007-05-25 06:51:27  2013-04-13 03:29:00  47.606209 -122.332071  \n",
       "1       2007-05-31 21:11:51  2008-05-23 23:23:14  34.021122 -118.396467  \n",
       "2       2007-08-06 23:52:45  2013-11-04 02:09:48  37.562992 -122.325525  \n",
       "3       2008-08-24 16:51:57  2008-09-06 14:19:18        NaN         NaN  \n",
       "4       2008-08-24 17:10:34  2008-09-06 14:19:18        NaN         NaN  \n",
       "...                     ...                  ...        ...         ...  \n",
       "196548  2011-09-06 23:17:56  2013-08-13 00:39:13  37.774929 -122.419415  \n",
       "196549  2008-08-24 15:46:26  2013-06-28 20:55:30  37.338208 -121.886329  \n",
       "196550  2008-08-24 15:46:58  2013-06-28 20:52:01  38.882334  -77.171091  \n",
       "196551  2008-08-24 16:00:22  2013-06-28 20:56:44  34.052234 -118.243685  \n",
       "196552  2008-08-24 16:46:13  2013-03-23 12:01:50  34.035633 -118.515590  \n",
       "\n",
       "[196553 rows x 16 columns]"
      ]
     },
     "execution_count": 50,
     "metadata": {},
     "output_type": "execute_result"
    }
   ],
   "source": [
    "company"
   ]
  },
  {
   "cell_type": "code",
   "execution_count": 52,
   "id": "82d116b6",
   "metadata": {
    "ExecuteTime": {
     "end_time": "2022-09-12T07:36:24.687581Z",
     "start_time": "2022-09-12T07:36:22.933674Z"
    }
   },
   "outputs": [
    {
     "data": {
      "text/plain": [
       "<AxesSubplot:xlabel='category_code', ylabel='count'>"
      ]
     },
     "execution_count": 52,
     "metadata": {},
     "output_type": "execute_result"
    },
    {
     "data": {
      "image/png": "[encoded data removed]",
      "text/plain": [
       "<Figure size 432x288 with 1 Axes>"
      ]
     },
     "metadata": {},
     "output_type": "display_data"
    }
   ],
   "source": [
    "sns.countplot(company.category_code)"
   ]
  },
  {
   "cell_type": "code",
   "execution_count": 53,
   "id": "84a9198b",
   "metadata": {
    "ExecuteTime": {
     "end_time": "2022-09-12T07:37:20.767394Z",
     "start_time": "2022-09-12T07:37:20.744455Z"
    }
   },
   "outputs": [
    {
     "data": {
      "text/plain": [
       "73367"
      ]
     },
     "execution_count": 53,
     "metadata": {},
     "output_type": "execute_result"
    }
   ],
   "source": [
    "company.category_code.isnull().sum()"
   ]
  },
  {
   "cell_type": "code",
   "execution_count": 56,
   "id": "4c02f6db",
   "metadata": {
    "ExecuteTime": {
     "end_time": "2022-09-12T07:38:20.625946Z",
     "start_time": "2022-09-12T07:38:20.455088Z"
    }
   },
   "outputs": [],
   "source": [
    "company.category_code.fillna(method='bfill', inplace=True)"
   ]
  },
  {
   "cell_type": "code",
   "execution_count": 59,
   "id": "94ba8dae",
   "metadata": {
    "ExecuteTime": {
     "end_time": "2022-09-12T07:39:19.719300Z",
     "start_time": "2022-09-12T07:39:19.699333Z"
    }
   },
   "outputs": [],
   "source": [
    "company.logo_width.fillna(0, inplace=True)\n",
    "company.logo_height.fillna(0, inplace=True)\n",
    "company.investment_rounds.fillna(0, inplace=True)\n",
    "company.invested_companies.fillna(0, inplace=True)"
   ]
  },
  {
   "cell_type": "code",
   "execution_count": 60,
   "id": "506eac4d",
   "metadata": {
    "ExecuteTime": {
     "end_time": "2022-09-12T07:40:11.137692Z",
     "start_time": "2022-09-12T07:40:10.831473Z"
    }
   },
   "outputs": [
    {
     "data": {
      "text/plain": [
       "permalink                  0\n",
       "category_code              0\n",
       "status                     0\n",
       "logo_width                 0\n",
       "logo_height                0\n",
       "region                     0\n",
       "investment_rounds          0\n",
       "invested_companies         0\n",
       "funding_rounds        164846\n",
       "funding_total_usd     168679\n",
       "milestones            104854\n",
       "relationships          66886\n",
       "created_at                 0\n",
       "updated_at                 0\n",
       "lat                   112701\n",
       "lng                   112701\n",
       "dtype: int64"
      ]
     },
     "execution_count": 60,
     "metadata": {},
     "output_type": "execute_result"
    }
   ],
   "source": [
    "company.isnull().sum()"
   ]
  },
  {
   "cell_type": "code",
   "execution_count": 61,
   "id": "8a8190d0",
   "metadata": {
    "ExecuteTime": {
     "end_time": "2022-09-12T07:40:35.046878Z",
     "start_time": "2022-09-12T07:40:34.993135Z"
    }
   },
   "outputs": [
    {
     "data": {
      "text/html": [
       "<div>\n",
       "<style scoped>\n",
       "    .dataframe tbody tr th:only-of-type {\n",
       "        vertical-align: middle;\n",
       "    }\n",
       "\n",
       "    .dataframe tbody tr th {\n",
       "        vertical-align: top;\n",
       "    }\n",
       "\n",
       "    .dataframe thead th {\n",
       "        text-align: right;\n",
       "    }\n",
       "</style>\n",
       "<table border=\"1\" class=\"dataframe\">\n",
       "  <thead>\n",
       "    <tr style=\"text-align: right;\">\n",
       "      <th></th>\n",
       "      <th>permalink</th>\n",
       "      <th>category_code</th>\n",
       "      <th>status</th>\n",
       "      <th>logo_width</th>\n",
       "      <th>logo_height</th>\n",
       "      <th>region</th>\n",
       "      <th>investment_rounds</th>\n",
       "      <th>invested_companies</th>\n",
       "      <th>funding_rounds</th>\n",
       "      <th>funding_total_usd</th>\n",
       "      <th>milestones</th>\n",
       "      <th>relationships</th>\n",
       "      <th>created_at</th>\n",
       "      <th>updated_at</th>\n",
       "      <th>lat</th>\n",
       "      <th>lng</th>\n",
       "    </tr>\n",
       "  </thead>\n",
       "  <tbody>\n",
       "    <tr>\n",
       "      <th>0</th>\n",
       "      <td>/company/wetpaint</td>\n",
       "      <td>web</td>\n",
       "      <td>operating</td>\n",
       "      <td>401.0</td>\n",
       "      <td>54.0</td>\n",
       "      <td>Seattle</td>\n",
       "      <td>0.0</td>\n",
       "      <td>0.0</td>\n",
       "      <td>3.0</td>\n",
       "      <td>39750000.0</td>\n",
       "      <td>5.0</td>\n",
       "      <td>17.0</td>\n",
       "      <td>2007-05-25 06:51:27</td>\n",
       "      <td>2013-04-13 03:29:00</td>\n",
       "      <td>47.606209</td>\n",
       "      <td>-122.332071</td>\n",
       "    </tr>\n",
       "    <tr>\n",
       "      <th>1</th>\n",
       "      <td>/company/flektor</td>\n",
       "      <td>games_video</td>\n",
       "      <td>acquired</td>\n",
       "      <td>186.0</td>\n",
       "      <td>85.0</td>\n",
       "      <td>Los Angeles</td>\n",
       "      <td>0.0</td>\n",
       "      <td>0.0</td>\n",
       "      <td>NaN</td>\n",
       "      <td>NaN</td>\n",
       "      <td>NaN</td>\n",
       "      <td>6.0</td>\n",
       "      <td>2007-05-31 21:11:51</td>\n",
       "      <td>2008-05-23 23:23:14</td>\n",
       "      <td>34.021122</td>\n",
       "      <td>-118.396467</td>\n",
       "    </tr>\n",
       "    <tr>\n",
       "      <th>2</th>\n",
       "      <td>/company/there</td>\n",
       "      <td>games_video</td>\n",
       "      <td>acquired</td>\n",
       "      <td>107.0</td>\n",
       "      <td>34.0</td>\n",
       "      <td>SF Bay</td>\n",
       "      <td>0.0</td>\n",
       "      <td>0.0</td>\n",
       "      <td>NaN</td>\n",
       "      <td>NaN</td>\n",
       "      <td>4.0</td>\n",
       "      <td>12.0</td>\n",
       "      <td>2007-08-06 23:52:45</td>\n",
       "      <td>2013-11-04 02:09:48</td>\n",
       "      <td>37.562992</td>\n",
       "      <td>-122.325525</td>\n",
       "    </tr>\n",
       "    <tr>\n",
       "      <th>3</th>\n",
       "      <td>/company/mywebbo</td>\n",
       "      <td>network_hosting</td>\n",
       "      <td>operating</td>\n",
       "      <td>0.0</td>\n",
       "      <td>0.0</td>\n",
       "      <td>unknown</td>\n",
       "      <td>0.0</td>\n",
       "      <td>0.0</td>\n",
       "      <td>NaN</td>\n",
       "      <td>NaN</td>\n",
       "      <td>NaN</td>\n",
       "      <td>NaN</td>\n",
       "      <td>2008-08-24 16:51:57</td>\n",
       "      <td>2008-09-06 14:19:18</td>\n",
       "      <td>NaN</td>\n",
       "      <td>NaN</td>\n",
       "    </tr>\n",
       "    <tr>\n",
       "      <th>4</th>\n",
       "      <td>/company/the-movie-streamer</td>\n",
       "      <td>games_video</td>\n",
       "      <td>operating</td>\n",
       "      <td>200.0</td>\n",
       "      <td>74.0</td>\n",
       "      <td>unknown</td>\n",
       "      <td>0.0</td>\n",
       "      <td>0.0</td>\n",
       "      <td>NaN</td>\n",
       "      <td>NaN</td>\n",
       "      <td>NaN</td>\n",
       "      <td>NaN</td>\n",
       "      <td>2008-08-24 17:10:34</td>\n",
       "      <td>2008-09-06 14:19:18</td>\n",
       "      <td>NaN</td>\n",
       "      <td>NaN</td>\n",
       "    </tr>\n",
       "    <tr>\n",
       "      <th>...</th>\n",
       "      <td>...</td>\n",
       "      <td>...</td>\n",
       "      <td>...</td>\n",
       "      <td>...</td>\n",
       "      <td>...</td>\n",
       "      <td>...</td>\n",
       "      <td>...</td>\n",
       "      <td>...</td>\n",
       "      <td>...</td>\n",
       "      <td>...</td>\n",
       "      <td>...</td>\n",
       "      <td>...</td>\n",
       "      <td>...</td>\n",
       "      <td>...</td>\n",
       "      <td>...</td>\n",
       "      <td>...</td>\n",
       "    </tr>\n",
       "    <tr>\n",
       "      <th>196548</th>\n",
       "      <td>/company/webgility</td>\n",
       "      <td>ecommerce</td>\n",
       "      <td>operating</td>\n",
       "      <td>200.0</td>\n",
       "      <td>54.0</td>\n",
       "      <td>SF Bay</td>\n",
       "      <td>0.0</td>\n",
       "      <td>0.0</td>\n",
       "      <td>NaN</td>\n",
       "      <td>NaN</td>\n",
       "      <td>2.0</td>\n",
       "      <td>5.0</td>\n",
       "      <td>2011-09-06 23:17:56</td>\n",
       "      <td>2013-08-13 00:39:13</td>\n",
       "      <td>37.774929</td>\n",
       "      <td>-122.419415</td>\n",
       "    </tr>\n",
       "    <tr>\n",
       "      <th>196549</th>\n",
       "      <td>/company/fohboh</td>\n",
       "      <td>public_relations</td>\n",
       "      <td>operating</td>\n",
       "      <td>518.0</td>\n",
       "      <td>267.0</td>\n",
       "      <td>SF Bay</td>\n",
       "      <td>0.0</td>\n",
       "      <td>0.0</td>\n",
       "      <td>1.0</td>\n",
       "      <td>750000.0</td>\n",
       "      <td>1.0</td>\n",
       "      <td>14.0</td>\n",
       "      <td>2008-08-24 15:46:26</td>\n",
       "      <td>2013-06-28 20:55:30</td>\n",
       "      <td>37.338208</td>\n",
       "      <td>-121.886329</td>\n",
       "    </tr>\n",
       "    <tr>\n",
       "      <th>196550</th>\n",
       "      <td>/company/csc</td>\n",
       "      <td>consulting</td>\n",
       "      <td>operating</td>\n",
       "      <td>60.0</td>\n",
       "      <td>33.0</td>\n",
       "      <td>Washington DC</td>\n",
       "      <td>0.0</td>\n",
       "      <td>0.0</td>\n",
       "      <td>NaN</td>\n",
       "      <td>NaN</td>\n",
       "      <td>3.0</td>\n",
       "      <td>44.0</td>\n",
       "      <td>2008-08-24 15:46:58</td>\n",
       "      <td>2013-06-28 20:52:01</td>\n",
       "      <td>38.882334</td>\n",
       "      <td>-77.171091</td>\n",
       "    </tr>\n",
       "    <tr>\n",
       "      <th>196551</th>\n",
       "      <td>/company/top-candidate</td>\n",
       "      <td>search</td>\n",
       "      <td>operating</td>\n",
       "      <td>230.0</td>\n",
       "      <td>86.0</td>\n",
       "      <td>Los Angeles</td>\n",
       "      <td>0.0</td>\n",
       "      <td>0.0</td>\n",
       "      <td>NaN</td>\n",
       "      <td>NaN</td>\n",
       "      <td>NaN</td>\n",
       "      <td>1.0</td>\n",
       "      <td>2008-08-24 16:00:22</td>\n",
       "      <td>2013-06-28 20:56:44</td>\n",
       "      <td>34.052234</td>\n",
       "      <td>-118.243685</td>\n",
       "    </tr>\n",
       "    <tr>\n",
       "      <th>196552</th>\n",
       "      <td>/company/closet-couture</td>\n",
       "      <td>ecommerce</td>\n",
       "      <td>operating</td>\n",
       "      <td>510.0</td>\n",
       "      <td>38.0</td>\n",
       "      <td>Pacific Palisades</td>\n",
       "      <td>0.0</td>\n",
       "      <td>0.0</td>\n",
       "      <td>1.0</td>\n",
       "      <td>475000.0</td>\n",
       "      <td>2.0</td>\n",
       "      <td>1.0</td>\n",
       "      <td>2008-08-24 16:46:13</td>\n",
       "      <td>2013-03-23 12:01:50</td>\n",
       "      <td>34.035633</td>\n",
       "      <td>-118.515590</td>\n",
       "    </tr>\n",
       "  </tbody>\n",
       "</table>\n",
       "<p>196553 rows × 16 columns</p>\n",
       "</div>"
      ],
      "text/plain": [
       "                          permalink     category_code     status  logo_width  \\\n",
       "0                 /company/wetpaint               web  operating       401.0   \n",
       "1                  /company/flektor       games_video   acquired       186.0   \n",
       "2                    /company/there       games_video   acquired       107.0   \n",
       "3                  /company/mywebbo   network_hosting  operating         0.0   \n",
       "4       /company/the-movie-streamer       games_video  operating       200.0   \n",
       "...                             ...               ...        ...         ...   \n",
       "196548           /company/webgility         ecommerce  operating       200.0   \n",
       "196549              /company/fohboh  public_relations  operating       518.0   \n",
       "196550                 /company/csc        consulting  operating        60.0   \n",
       "196551       /company/top-candidate            search  operating       230.0   \n",
       "196552      /company/closet-couture         ecommerce  operating       510.0   \n",
       "\n",
       "        logo_height             region  investment_rounds  invested_companies  \\\n",
       "0              54.0            Seattle                0.0                 0.0   \n",
       "1              85.0        Los Angeles                0.0                 0.0   \n",
       "2              34.0             SF Bay                0.0                 0.0   \n",
       "3               0.0            unknown                0.0                 0.0   \n",
       "4              74.0            unknown                0.0                 0.0   \n",
       "...             ...                ...                ...                 ...   \n",
       "196548         54.0             SF Bay                0.0                 0.0   \n",
       "196549        267.0             SF Bay                0.0                 0.0   \n",
       "196550         33.0      Washington DC                0.0                 0.0   \n",
       "196551         86.0        Los Angeles                0.0                 0.0   \n",
       "196552         38.0  Pacific Palisades                0.0                 0.0   \n",
       "\n",
       "        funding_rounds  funding_total_usd  milestones  relationships  \\\n",
       "0                  3.0         39750000.0         5.0           17.0   \n",
       "1                  NaN                NaN         NaN            6.0   \n",
       "2                  NaN                NaN         4.0           12.0   \n",
       "3                  NaN                NaN         NaN            NaN   \n",
       "4                  NaN                NaN         NaN            NaN   \n",
       "...                ...                ...         ...            ...   \n",
       "196548             NaN                NaN         2.0            5.0   \n",
       "196549             1.0           750000.0         1.0           14.0   \n",
       "196550             NaN                NaN         3.0           44.0   \n",
       "196551             NaN                NaN         NaN            1.0   \n",
       "196552             1.0           475000.0         2.0            1.0   \n",
       "\n",
       "                 created_at           updated_at        lat         lng  \n",
       "0       2007-05-25 06:51:27  2013-04-13 03:29:00  47.606209 -122.332071  \n",
       "1       2007-05-31 21:11:51  2008-05-23 23:23:14  34.021122 -118.396467  \n",
       "2       2007-08-06 23:52:45  2013-11-04 02:09:48  37.562992 -122.325525  \n",
       "3       2008-08-24 16:51:57  2008-09-06 14:19:18        NaN         NaN  \n",
       "4       2008-08-24 17:10:34  2008-09-06 14:19:18        NaN         NaN  \n",
       "...                     ...                  ...        ...         ...  \n",
       "196548  2011-09-06 23:17:56  2013-08-13 00:39:13  37.774929 -122.419415  \n",
       "196549  2008-08-24 15:46:26  2013-06-28 20:55:30  37.338208 -121.886329  \n",
       "196550  2008-08-24 15:46:58  2013-06-28 20:52:01  38.882334  -77.171091  \n",
       "196551  2008-08-24 16:00:22  2013-06-28 20:56:44  34.052234 -118.243685  \n",
       "196552  2008-08-24 16:46:13  2013-03-23 12:01:50  34.035633 -118.515590  \n",
       "\n",
       "[196553 rows x 16 columns]"
      ]
     },
     "execution_count": 61,
     "metadata": {},
     "output_type": "execute_result"
    }
   ],
   "source": [
    "company"
   ]
  },
  {
   "cell_type": "code",
   "execution_count": 64,
   "id": "dcbb1bbc",
   "metadata": {
    "ExecuteTime": {
     "end_time": "2022-09-12T07:41:24.706927Z",
     "start_time": "2022-09-12T07:41:24.691971Z"
    }
   },
   "outputs": [
    {
     "data": {
      "text/plain": [
       "array([ 3., nan,  1.,  5.,  2.,  7.,  4.,  6.,  8., 10.,  9., 13., 11.,\n",
       "       15., 14., 12.])"
      ]
     },
     "execution_count": 64,
     "metadata": {},
     "output_type": "execute_result"
    }
   ],
   "source": [
    "company.funding_rounds.unique()"
   ]
  },
  {
   "cell_type": "code",
   "execution_count": 68,
   "id": "d0689cd2",
   "metadata": {
    "ExecuteTime": {
     "end_time": "2022-09-12T07:42:38.296949Z",
     "start_time": "2022-09-12T07:42:38.281959Z"
    }
   },
   "outputs": [],
   "source": [
    "company.funding_rounds.fillna(method='ffill', inplace=True)\n",
    "company.funding_total_usd.fillna(method='bfill', inplace=True)\n",
    "company.milestones.fillna(method='bfill', inplace=True)\n",
    "company.relationships.fillna(method='bfill', inplace=True)"
   ]
  },
  {
   "cell_type": "code",
   "execution_count": 69,
   "id": "6ab43005",
   "metadata": {
    "ExecuteTime": {
     "end_time": "2022-09-12T07:42:41.390732Z",
     "start_time": "2022-09-12T07:42:41.336877Z"
    }
   },
   "outputs": [
    {
     "data": {
      "text/html": [
       "<div>\n",
       "<style scoped>\n",
       "    .dataframe tbody tr th:only-of-type {\n",
       "        vertical-align: middle;\n",
       "    }\n",
       "\n",
       "    .dataframe tbody tr th {\n",
       "        vertical-align: top;\n",
       "    }\n",
       "\n",
       "    .dataframe thead th {\n",
       "        text-align: right;\n",
       "    }\n",
       "</style>\n",
       "<table border=\"1\" class=\"dataframe\">\n",
       "  <thead>\n",
       "    <tr style=\"text-align: right;\">\n",
       "      <th></th>\n",
       "      <th>permalink</th>\n",
       "      <th>category_code</th>\n",
       "      <th>status</th>\n",
       "      <th>logo_width</th>\n",
       "      <th>logo_height</th>\n",
       "      <th>region</th>\n",
       "      <th>investment_rounds</th>\n",
       "      <th>invested_companies</th>\n",
       "      <th>funding_rounds</th>\n",
       "      <th>funding_total_usd</th>\n",
       "      <th>milestones</th>\n",
       "      <th>relationships</th>\n",
       "      <th>created_at</th>\n",
       "      <th>updated_at</th>\n",
       "      <th>lat</th>\n",
       "      <th>lng</th>\n",
       "    </tr>\n",
       "  </thead>\n",
       "  <tbody>\n",
       "    <tr>\n",
       "      <th>0</th>\n",
       "      <td>/company/wetpaint</td>\n",
       "      <td>web</td>\n",
       "      <td>operating</td>\n",
       "      <td>401.0</td>\n",
       "      <td>54.0</td>\n",
       "      <td>Seattle</td>\n",
       "      <td>0.0</td>\n",
       "      <td>0.0</td>\n",
       "      <td>3.0</td>\n",
       "      <td>39750000.0</td>\n",
       "      <td>5.0</td>\n",
       "      <td>17.0</td>\n",
       "      <td>2007-05-25 06:51:27</td>\n",
       "      <td>2013-04-13 03:29:00</td>\n",
       "      <td>47.606209</td>\n",
       "      <td>-122.332071</td>\n",
       "    </tr>\n",
       "    <tr>\n",
       "      <th>1</th>\n",
       "      <td>/company/flektor</td>\n",
       "      <td>games_video</td>\n",
       "      <td>acquired</td>\n",
       "      <td>186.0</td>\n",
       "      <td>85.0</td>\n",
       "      <td>Los Angeles</td>\n",
       "      <td>0.0</td>\n",
       "      <td>0.0</td>\n",
       "      <td>1.0</td>\n",
       "      <td>5000000.0</td>\n",
       "      <td>4.0</td>\n",
       "      <td>6.0</td>\n",
       "      <td>2007-05-31 21:11:51</td>\n",
       "      <td>2008-05-23 23:23:14</td>\n",
       "      <td>34.021122</td>\n",
       "      <td>-118.396467</td>\n",
       "    </tr>\n",
       "    <tr>\n",
       "      <th>2</th>\n",
       "      <td>/company/there</td>\n",
       "      <td>games_video</td>\n",
       "      <td>acquired</td>\n",
       "      <td>107.0</td>\n",
       "      <td>34.0</td>\n",
       "      <td>SF Bay</td>\n",
       "      <td>0.0</td>\n",
       "      <td>0.0</td>\n",
       "      <td>1.0</td>\n",
       "      <td>5000000.0</td>\n",
       "      <td>4.0</td>\n",
       "      <td>12.0</td>\n",
       "      <td>2007-08-06 23:52:45</td>\n",
       "      <td>2013-11-04 02:09:48</td>\n",
       "      <td>37.562992</td>\n",
       "      <td>-122.325525</td>\n",
       "    </tr>\n",
       "    <tr>\n",
       "      <th>3</th>\n",
       "      <td>/company/mywebbo</td>\n",
       "      <td>network_hosting</td>\n",
       "      <td>operating</td>\n",
       "      <td>0.0</td>\n",
       "      <td>0.0</td>\n",
       "      <td>unknown</td>\n",
       "      <td>0.0</td>\n",
       "      <td>0.0</td>\n",
       "      <td>1.0</td>\n",
       "      <td>5000000.0</td>\n",
       "      <td>1.0</td>\n",
       "      <td>2.0</td>\n",
       "      <td>2008-08-24 16:51:57</td>\n",
       "      <td>2008-09-06 14:19:18</td>\n",
       "      <td>NaN</td>\n",
       "      <td>NaN</td>\n",
       "    </tr>\n",
       "    <tr>\n",
       "      <th>4</th>\n",
       "      <td>/company/the-movie-streamer</td>\n",
       "      <td>games_video</td>\n",
       "      <td>operating</td>\n",
       "      <td>200.0</td>\n",
       "      <td>74.0</td>\n",
       "      <td>unknown</td>\n",
       "      <td>0.0</td>\n",
       "      <td>0.0</td>\n",
       "      <td>1.0</td>\n",
       "      <td>5000000.0</td>\n",
       "      <td>1.0</td>\n",
       "      <td>2.0</td>\n",
       "      <td>2008-08-24 17:10:34</td>\n",
       "      <td>2008-09-06 14:19:18</td>\n",
       "      <td>NaN</td>\n",
       "      <td>NaN</td>\n",
       "    </tr>\n",
       "    <tr>\n",
       "      <th>...</th>\n",
       "      <td>...</td>\n",
       "      <td>...</td>\n",
       "      <td>...</td>\n",
       "      <td>...</td>\n",
       "      <td>...</td>\n",
       "      <td>...</td>\n",
       "      <td>...</td>\n",
       "      <td>...</td>\n",
       "      <td>...</td>\n",
       "      <td>...</td>\n",
       "      <td>...</td>\n",
       "      <td>...</td>\n",
       "      <td>...</td>\n",
       "      <td>...</td>\n",
       "      <td>...</td>\n",
       "      <td>...</td>\n",
       "    </tr>\n",
       "    <tr>\n",
       "      <th>196548</th>\n",
       "      <td>/company/webgility</td>\n",
       "      <td>ecommerce</td>\n",
       "      <td>operating</td>\n",
       "      <td>200.0</td>\n",
       "      <td>54.0</td>\n",
       "      <td>SF Bay</td>\n",
       "      <td>0.0</td>\n",
       "      <td>0.0</td>\n",
       "      <td>1.0</td>\n",
       "      <td>750000.0</td>\n",
       "      <td>2.0</td>\n",
       "      <td>5.0</td>\n",
       "      <td>2011-09-06 23:17:56</td>\n",
       "      <td>2013-08-13 00:39:13</td>\n",
       "      <td>37.774929</td>\n",
       "      <td>-122.419415</td>\n",
       "    </tr>\n",
       "    <tr>\n",
       "      <th>196549</th>\n",
       "      <td>/company/fohboh</td>\n",
       "      <td>public_relations</td>\n",
       "      <td>operating</td>\n",
       "      <td>518.0</td>\n",
       "      <td>267.0</td>\n",
       "      <td>SF Bay</td>\n",
       "      <td>0.0</td>\n",
       "      <td>0.0</td>\n",
       "      <td>1.0</td>\n",
       "      <td>750000.0</td>\n",
       "      <td>1.0</td>\n",
       "      <td>14.0</td>\n",
       "      <td>2008-08-24 15:46:26</td>\n",
       "      <td>2013-06-28 20:55:30</td>\n",
       "      <td>37.338208</td>\n",
       "      <td>-121.886329</td>\n",
       "    </tr>\n",
       "    <tr>\n",
       "      <th>196550</th>\n",
       "      <td>/company/csc</td>\n",
       "      <td>consulting</td>\n",
       "      <td>operating</td>\n",
       "      <td>60.0</td>\n",
       "      <td>33.0</td>\n",
       "      <td>Washington DC</td>\n",
       "      <td>0.0</td>\n",
       "      <td>0.0</td>\n",
       "      <td>1.0</td>\n",
       "      <td>475000.0</td>\n",
       "      <td>3.0</td>\n",
       "      <td>44.0</td>\n",
       "      <td>2008-08-24 15:46:58</td>\n",
       "      <td>2013-06-28 20:52:01</td>\n",
       "      <td>38.882334</td>\n",
       "      <td>-77.171091</td>\n",
       "    </tr>\n",
       "    <tr>\n",
       "      <th>196551</th>\n",
       "      <td>/company/top-candidate</td>\n",
       "      <td>search</td>\n",
       "      <td>operating</td>\n",
       "      <td>230.0</td>\n",
       "      <td>86.0</td>\n",
       "      <td>Los Angeles</td>\n",
       "      <td>0.0</td>\n",
       "      <td>0.0</td>\n",
       "      <td>1.0</td>\n",
       "      <td>475000.0</td>\n",
       "      <td>2.0</td>\n",
       "      <td>1.0</td>\n",
       "      <td>2008-08-24 16:00:22</td>\n",
       "      <td>2013-06-28 20:56:44</td>\n",
       "      <td>34.052234</td>\n",
       "      <td>-118.243685</td>\n",
       "    </tr>\n",
       "    <tr>\n",
       "      <th>196552</th>\n",
       "      <td>/company/closet-couture</td>\n",
       "      <td>ecommerce</td>\n",
       "      <td>operating</td>\n",
       "      <td>510.0</td>\n",
       "      <td>38.0</td>\n",
       "      <td>Pacific Palisades</td>\n",
       "      <td>0.0</td>\n",
       "      <td>0.0</td>\n",
       "      <td>1.0</td>\n",
       "      <td>475000.0</td>\n",
       "      <td>2.0</td>\n",
       "      <td>1.0</td>\n",
       "      <td>2008-08-24 16:46:13</td>\n",
       "      <td>2013-03-23 12:01:50</td>\n",
       "      <td>34.035633</td>\n",
       "      <td>-118.515590</td>\n",
       "    </tr>\n",
       "  </tbody>\n",
       "</table>\n",
       "<p>196553 rows × 16 columns</p>\n",
       "</div>"
      ],
      "text/plain": [
       "                          permalink     category_code     status  logo_width  \\\n",
       "0                 /company/wetpaint               web  operating       401.0   \n",
       "1                  /company/flektor       games_video   acquired       186.0   \n",
       "2                    /company/there       games_video   acquired       107.0   \n",
       "3                  /company/mywebbo   network_hosting  operating         0.0   \n",
       "4       /company/the-movie-streamer       games_video  operating       200.0   \n",
       "...                             ...               ...        ...         ...   \n",
       "196548           /company/webgility         ecommerce  operating       200.0   \n",
       "196549              /company/fohboh  public_relations  operating       518.0   \n",
       "196550                 /company/csc        consulting  operating        60.0   \n",
       "196551       /company/top-candidate            search  operating       230.0   \n",
       "196552      /company/closet-couture         ecommerce  operating       510.0   \n",
       "\n",
       "        logo_height             region  investment_rounds  invested_companies  \\\n",
       "0              54.0            Seattle                0.0                 0.0   \n",
       "1              85.0        Los Angeles                0.0                 0.0   \n",
       "2              34.0             SF Bay                0.0                 0.0   \n",
       "3               0.0            unknown                0.0                 0.0   \n",
       "4              74.0            unknown                0.0                 0.0   \n",
       "...             ...                ...                ...                 ...   \n",
       "196548         54.0             SF Bay                0.0                 0.0   \n",
       "196549        267.0             SF Bay                0.0                 0.0   \n",
       "196550         33.0      Washington DC                0.0                 0.0   \n",
       "196551         86.0        Los Angeles                0.0                 0.0   \n",
       "196552         38.0  Pacific Palisades                0.0                 0.0   \n",
       "\n",
       "        funding_rounds  funding_total_usd  milestones  relationships  \\\n",
       "0                  3.0         39750000.0         5.0           17.0   \n",
       "1                  1.0          5000000.0         4.0            6.0   \n",
       "2                  1.0          5000000.0         4.0           12.0   \n",
       "3                  1.0          5000000.0         1.0            2.0   \n",
       "4                  1.0          5000000.0         1.0            2.0   \n",
       "...                ...                ...         ...            ...   \n",
       "196548             1.0           750000.0         2.0            5.0   \n",
       "196549             1.0           750000.0         1.0           14.0   \n",
       "196550             1.0           475000.0         3.0           44.0   \n",
       "196551             1.0           475000.0         2.0            1.0   \n",
       "196552             1.0           475000.0         2.0            1.0   \n",
       "\n",
       "                 created_at           updated_at        lat         lng  \n",
       "0       2007-05-25 06:51:27  2013-04-13 03:29:00  47.606209 -122.332071  \n",
       "1       2007-05-31 21:11:51  2008-05-23 23:23:14  34.021122 -118.396467  \n",
       "2       2007-08-06 23:52:45  2013-11-04 02:09:48  37.562992 -122.325525  \n",
       "3       2008-08-24 16:51:57  2008-09-06 14:19:18        NaN         NaN  \n",
       "4       2008-08-24 17:10:34  2008-09-06 14:19:18        NaN         NaN  \n",
       "...                     ...                  ...        ...         ...  \n",
       "196548  2011-09-06 23:17:56  2013-08-13 00:39:13  37.774929 -122.419415  \n",
       "196549  2008-08-24 15:46:26  2013-06-28 20:55:30  37.338208 -121.886329  \n",
       "196550  2008-08-24 15:46:58  2013-06-28 20:52:01  38.882334  -77.171091  \n",
       "196551  2008-08-24 16:00:22  2013-06-28 20:56:44  34.052234 -118.243685  \n",
       "196552  2008-08-24 16:46:13  2013-03-23 12:01:50  34.035633 -118.515590  \n",
       "\n",
       "[196553 rows x 16 columns]"
      ]
     },
     "execution_count": 69,
     "metadata": {},
     "output_type": "execute_result"
    }
   ],
   "source": [
    "company"
   ]
  },
  {
   "cell_type": "code",
   "execution_count": 70,
   "id": "a99cdd3b",
   "metadata": {
    "ExecuteTime": {
     "end_time": "2022-09-12T07:43:09.272942Z",
     "start_time": "2022-09-12T07:43:08.971660Z"
    }
   },
   "outputs": [
    {
     "data": {
      "text/plain": [
       "permalink                  0\n",
       "category_code              0\n",
       "status                     0\n",
       "logo_width                 0\n",
       "logo_height                0\n",
       "region                     0\n",
       "investment_rounds          0\n",
       "invested_companies         0\n",
       "funding_rounds             0\n",
       "funding_total_usd          0\n",
       "milestones                 0\n",
       "relationships              0\n",
       "created_at                 0\n",
       "updated_at                 0\n",
       "lat                   112701\n",
       "lng                   112701\n",
       "dtype: int64"
      ]
     },
     "execution_count": 70,
     "metadata": {},
     "output_type": "execute_result"
    }
   ],
   "source": [
    "company.isnull().sum()"
   ]
  },
  {
   "cell_type": "code",
   "execution_count": 72,
   "id": "77937f07",
   "metadata": {
    "ExecuteTime": {
     "end_time": "2022-09-12T07:43:54.163932Z",
     "start_time": "2022-09-12T07:43:54.150964Z"
    }
   },
   "outputs": [],
   "source": [
    "company.lat.fillna(method='ffill', inplace=True)\n",
    "company.lng.fillna(method='ffill', inplace=True)"
   ]
  },
  {
   "cell_type": "code",
   "execution_count": 74,
   "id": "de59a0c4",
   "metadata": {
    "ExecuteTime": {
     "end_time": "2022-09-12T07:44:10.781581Z",
     "start_time": "2022-09-12T07:44:10.492317Z"
    }
   },
   "outputs": [
    {
     "data": {
      "text/plain": [
       "permalink             0\n",
       "category_code         0\n",
       "status                0\n",
       "logo_width            0\n",
       "logo_height           0\n",
       "region                0\n",
       "investment_rounds     0\n",
       "invested_companies    0\n",
       "funding_rounds        0\n",
       "funding_total_usd     0\n",
       "milestones            0\n",
       "relationships         0\n",
       "created_at            0\n",
       "updated_at            0\n",
       "lat                   0\n",
       "lng                   0\n",
       "dtype: int64"
      ]
     },
     "execution_count": 74,
     "metadata": {},
     "output_type": "execute_result"
    }
   ],
   "source": [
    "company.isnull().sum()"
   ]
  },
  {
   "cell_type": "code",
   "execution_count": 75,
   "id": "80b97a72",
   "metadata": {
    "ExecuteTime": {
     "end_time": "2022-09-12T07:44:25.551367Z",
     "start_time": "2022-09-12T07:44:25.502496Z"
    }
   },
   "outputs": [
    {
     "data": {
      "text/html": [
       "<div>\n",
       "<style scoped>\n",
       "    .dataframe tbody tr th:only-of-type {\n",
       "        vertical-align: middle;\n",
       "    }\n",
       "\n",
       "    .dataframe tbody tr th {\n",
       "        vertical-align: top;\n",
       "    }\n",
       "\n",
       "    .dataframe thead th {\n",
       "        text-align: right;\n",
       "    }\n",
       "</style>\n",
       "<table border=\"1\" class=\"dataframe\">\n",
       "  <thead>\n",
       "    <tr style=\"text-align: right;\">\n",
       "      <th></th>\n",
       "      <th>permalink</th>\n",
       "      <th>category_code</th>\n",
       "      <th>status</th>\n",
       "      <th>logo_width</th>\n",
       "      <th>logo_height</th>\n",
       "      <th>region</th>\n",
       "      <th>investment_rounds</th>\n",
       "      <th>invested_companies</th>\n",
       "      <th>funding_rounds</th>\n",
       "      <th>funding_total_usd</th>\n",
       "      <th>milestones</th>\n",
       "      <th>relationships</th>\n",
       "      <th>created_at</th>\n",
       "      <th>updated_at</th>\n",
       "      <th>lat</th>\n",
       "      <th>lng</th>\n",
       "    </tr>\n",
       "  </thead>\n",
       "  <tbody>\n",
       "    <tr>\n",
       "      <th>0</th>\n",
       "      <td>/company/wetpaint</td>\n",
       "      <td>web</td>\n",
       "      <td>operating</td>\n",
       "      <td>401.0</td>\n",
       "      <td>54.0</td>\n",
       "      <td>Seattle</td>\n",
       "      <td>0.0</td>\n",
       "      <td>0.0</td>\n",
       "      <td>3.0</td>\n",
       "      <td>39750000.0</td>\n",
       "      <td>5.0</td>\n",
       "      <td>17.0</td>\n",
       "      <td>2007-05-25 06:51:27</td>\n",
       "      <td>2013-04-13 03:29:00</td>\n",
       "      <td>47.606209</td>\n",
       "      <td>-122.332071</td>\n",
       "    </tr>\n",
       "    <tr>\n",
       "      <th>1</th>\n",
       "      <td>/company/flektor</td>\n",
       "      <td>games_video</td>\n",
       "      <td>acquired</td>\n",
       "      <td>186.0</td>\n",
       "      <td>85.0</td>\n",
       "      <td>Los Angeles</td>\n",
       "      <td>0.0</td>\n",
       "      <td>0.0</td>\n",
       "      <td>1.0</td>\n",
       "      <td>5000000.0</td>\n",
       "      <td>4.0</td>\n",
       "      <td>6.0</td>\n",
       "      <td>2007-05-31 21:11:51</td>\n",
       "      <td>2008-05-23 23:23:14</td>\n",
       "      <td>34.021122</td>\n",
       "      <td>-118.396467</td>\n",
       "    </tr>\n",
       "    <tr>\n",
       "      <th>2</th>\n",
       "      <td>/company/there</td>\n",
       "      <td>games_video</td>\n",
       "      <td>acquired</td>\n",
       "      <td>107.0</td>\n",
       "      <td>34.0</td>\n",
       "      <td>SF Bay</td>\n",
       "      <td>0.0</td>\n",
       "      <td>0.0</td>\n",
       "      <td>1.0</td>\n",
       "      <td>5000000.0</td>\n",
       "      <td>4.0</td>\n",
       "      <td>12.0</td>\n",
       "      <td>2007-08-06 23:52:45</td>\n",
       "      <td>2013-11-04 02:09:48</td>\n",
       "      <td>37.562992</td>\n",
       "      <td>-122.325525</td>\n",
       "    </tr>\n",
       "    <tr>\n",
       "      <th>3</th>\n",
       "      <td>/company/mywebbo</td>\n",
       "      <td>network_hosting</td>\n",
       "      <td>operating</td>\n",
       "      <td>0.0</td>\n",
       "      <td>0.0</td>\n",
       "      <td>unknown</td>\n",
       "      <td>0.0</td>\n",
       "      <td>0.0</td>\n",
       "      <td>1.0</td>\n",
       "      <td>5000000.0</td>\n",
       "      <td>1.0</td>\n",
       "      <td>2.0</td>\n",
       "      <td>2008-08-24 16:51:57</td>\n",
       "      <td>2008-09-06 14:19:18</td>\n",
       "      <td>37.562992</td>\n",
       "      <td>-122.325525</td>\n",
       "    </tr>\n",
       "    <tr>\n",
       "      <th>4</th>\n",
       "      <td>/company/the-movie-streamer</td>\n",
       "      <td>games_video</td>\n",
       "      <td>operating</td>\n",
       "      <td>200.0</td>\n",
       "      <td>74.0</td>\n",
       "      <td>unknown</td>\n",
       "      <td>0.0</td>\n",
       "      <td>0.0</td>\n",
       "      <td>1.0</td>\n",
       "      <td>5000000.0</td>\n",
       "      <td>1.0</td>\n",
       "      <td>2.0</td>\n",
       "      <td>2008-08-24 17:10:34</td>\n",
       "      <td>2008-09-06 14:19:18</td>\n",
       "      <td>37.562992</td>\n",
       "      <td>-122.325525</td>\n",
       "    </tr>\n",
       "    <tr>\n",
       "      <th>...</th>\n",
       "      <td>...</td>\n",
       "      <td>...</td>\n",
       "      <td>...</td>\n",
       "      <td>...</td>\n",
       "      <td>...</td>\n",
       "      <td>...</td>\n",
       "      <td>...</td>\n",
       "      <td>...</td>\n",
       "      <td>...</td>\n",
       "      <td>...</td>\n",
       "      <td>...</td>\n",
       "      <td>...</td>\n",
       "      <td>...</td>\n",
       "      <td>...</td>\n",
       "      <td>...</td>\n",
       "      <td>...</td>\n",
       "    </tr>\n",
       "    <tr>\n",
       "      <th>196548</th>\n",
       "      <td>/company/webgility</td>\n",
       "      <td>ecommerce</td>\n",
       "      <td>operating</td>\n",
       "      <td>200.0</td>\n",
       "      <td>54.0</td>\n",
       "      <td>SF Bay</td>\n",
       "      <td>0.0</td>\n",
       "      <td>0.0</td>\n",
       "      <td>1.0</td>\n",
       "      <td>750000.0</td>\n",
       "      <td>2.0</td>\n",
       "      <td>5.0</td>\n",
       "      <td>2011-09-06 23:17:56</td>\n",
       "      <td>2013-08-13 00:39:13</td>\n",
       "      <td>37.774929</td>\n",
       "      <td>-122.419415</td>\n",
       "    </tr>\n",
       "    <tr>\n",
       "      <th>196549</th>\n",
       "      <td>/company/fohboh</td>\n",
       "      <td>public_relations</td>\n",
       "      <td>operating</td>\n",
       "      <td>518.0</td>\n",
       "      <td>267.0</td>\n",
       "      <td>SF Bay</td>\n",
       "      <td>0.0</td>\n",
       "      <td>0.0</td>\n",
       "      <td>1.0</td>\n",
       "      <td>750000.0</td>\n",
       "      <td>1.0</td>\n",
       "      <td>14.0</td>\n",
       "      <td>2008-08-24 15:46:26</td>\n",
       "      <td>2013-06-28 20:55:30</td>\n",
       "      <td>37.338208</td>\n",
       "      <td>-121.886329</td>\n",
       "    </tr>\n",
       "    <tr>\n",
       "      <th>196550</th>\n",
       "      <td>/company/csc</td>\n",
       "      <td>consulting</td>\n",
       "      <td>operating</td>\n",
       "      <td>60.0</td>\n",
       "      <td>33.0</td>\n",
       "      <td>Washington DC</td>\n",
       "      <td>0.0</td>\n",
       "      <td>0.0</td>\n",
       "      <td>1.0</td>\n",
       "      <td>475000.0</td>\n",
       "      <td>3.0</td>\n",
       "      <td>44.0</td>\n",
       "      <td>2008-08-24 15:46:58</td>\n",
       "      <td>2013-06-28 20:52:01</td>\n",
       "      <td>38.882334</td>\n",
       "      <td>-77.171091</td>\n",
       "    </tr>\n",
       "    <tr>\n",
       "      <th>196551</th>\n",
       "      <td>/company/top-candidate</td>\n",
       "      <td>search</td>\n",
       "      <td>operating</td>\n",
       "      <td>230.0</td>\n",
       "      <td>86.0</td>\n",
       "      <td>Los Angeles</td>\n",
       "      <td>0.0</td>\n",
       "      <td>0.0</td>\n",
       "      <td>1.0</td>\n",
       "      <td>475000.0</td>\n",
       "      <td>2.0</td>\n",
       "      <td>1.0</td>\n",
       "      <td>2008-08-24 16:00:22</td>\n",
       "      <td>2013-06-28 20:56:44</td>\n",
       "      <td>34.052234</td>\n",
       "      <td>-118.243685</td>\n",
       "    </tr>\n",
       "    <tr>\n",
       "      <th>196552</th>\n",
       "      <td>/company/closet-couture</td>\n",
       "      <td>ecommerce</td>\n",
       "      <td>operating</td>\n",
       "      <td>510.0</td>\n",
       "      <td>38.0</td>\n",
       "      <td>Pacific Palisades</td>\n",
       "      <td>0.0</td>\n",
       "      <td>0.0</td>\n",
       "      <td>1.0</td>\n",
       "      <td>475000.0</td>\n",
       "      <td>2.0</td>\n",
       "      <td>1.0</td>\n",
       "      <td>2008-08-24 16:46:13</td>\n",
       "      <td>2013-03-23 12:01:50</td>\n",
       "      <td>34.035633</td>\n",
       "      <td>-118.515590</td>\n",
       "    </tr>\n",
       "  </tbody>\n",
       "</table>\n",
       "<p>196553 rows × 16 columns</p>\n",
       "</div>"
      ],
      "text/plain": [
       "                          permalink     category_code     status  logo_width  \\\n",
       "0                 /company/wetpaint               web  operating       401.0   \n",
       "1                  /company/flektor       games_video   acquired       186.0   \n",
       "2                    /company/there       games_video   acquired       107.0   \n",
       "3                  /company/mywebbo   network_hosting  operating         0.0   \n",
       "4       /company/the-movie-streamer       games_video  operating       200.0   \n",
       "...                             ...               ...        ...         ...   \n",
       "196548           /company/webgility         ecommerce  operating       200.0   \n",
       "196549              /company/fohboh  public_relations  operating       518.0   \n",
       "196550                 /company/csc        consulting  operating        60.0   \n",
       "196551       /company/top-candidate            search  operating       230.0   \n",
       "196552      /company/closet-couture         ecommerce  operating       510.0   \n",
       "\n",
       "        logo_height             region  investment_rounds  invested_companies  \\\n",
       "0              54.0            Seattle                0.0                 0.0   \n",
       "1              85.0        Los Angeles                0.0                 0.0   \n",
       "2              34.0             SF Bay                0.0                 0.0   \n",
       "3               0.0            unknown                0.0                 0.0   \n",
       "4              74.0            unknown                0.0                 0.0   \n",
       "...             ...                ...                ...                 ...   \n",
       "196548         54.0             SF Bay                0.0                 0.0   \n",
       "196549        267.0             SF Bay                0.0                 0.0   \n",
       "196550         33.0      Washington DC                0.0                 0.0   \n",
       "196551         86.0        Los Angeles                0.0                 0.0   \n",
       "196552         38.0  Pacific Palisades                0.0                 0.0   \n",
       "\n",
       "        funding_rounds  funding_total_usd  milestones  relationships  \\\n",
       "0                  3.0         39750000.0         5.0           17.0   \n",
       "1                  1.0          5000000.0         4.0            6.0   \n",
       "2                  1.0          5000000.0         4.0           12.0   \n",
       "3                  1.0          5000000.0         1.0            2.0   \n",
       "4                  1.0          5000000.0         1.0            2.0   \n",
       "...                ...                ...         ...            ...   \n",
       "196548             1.0           750000.0         2.0            5.0   \n",
       "196549             1.0           750000.0         1.0           14.0   \n",
       "196550             1.0           475000.0         3.0           44.0   \n",
       "196551             1.0           475000.0         2.0            1.0   \n",
       "196552             1.0           475000.0         2.0            1.0   \n",
       "\n",
       "                 created_at           updated_at        lat         lng  \n",
       "0       2007-05-25 06:51:27  2013-04-13 03:29:00  47.606209 -122.332071  \n",
       "1       2007-05-31 21:11:51  2008-05-23 23:23:14  34.021122 -118.396467  \n",
       "2       2007-08-06 23:52:45  2013-11-04 02:09:48  37.562992 -122.325525  \n",
       "3       2008-08-24 16:51:57  2008-09-06 14:19:18  37.562992 -122.325525  \n",
       "4       2008-08-24 17:10:34  2008-09-06 14:19:18  37.562992 -122.325525  \n",
       "...                     ...                  ...        ...         ...  \n",
       "196548  2011-09-06 23:17:56  2013-08-13 00:39:13  37.774929 -122.419415  \n",
       "196549  2008-08-24 15:46:26  2013-06-28 20:55:30  37.338208 -121.886329  \n",
       "196550  2008-08-24 15:46:58  2013-06-28 20:52:01  38.882334  -77.171091  \n",
       "196551  2008-08-24 16:00:22  2013-06-28 20:56:44  34.052234 -118.243685  \n",
       "196552  2008-08-24 16:46:13  2013-03-23 12:01:50  34.035633 -118.515590  \n",
       "\n",
       "[196553 rows x 16 columns]"
      ]
     },
     "execution_count": 75,
     "metadata": {},
     "output_type": "execute_result"
    }
   ],
   "source": [
    "company"
   ]
  },
  {
   "cell_type": "code",
   "execution_count": 109,
   "id": "3017dfd2",
   "metadata": {
    "ExecuteTime": {
     "end_time": "2022-09-12T08:08:45.391477Z",
     "start_time": "2022-09-12T08:08:43.553331Z"
    }
   },
   "outputs": [
    {
     "data": {
      "image/png": "[encoded data removed]",
      "text/plain": [
       "<Figure size 2160x2160 with 2 Axes>"
      ]
     },
     "metadata": {},
     "output_type": "display_data"
    }
   ],
   "source": [
    "plt.figure(figsize=(30,30))\n",
    "plt.title('Pearson Correlation of Features', size = 15)\n",
    "colormap = sns.diverging_palette(10, 220, as_cmap = True)\n",
    "sns.heatmap(company.corr(),\n",
    "            cmap = 'Greens',\n",
    "            square = True,\n",
    "            annot = True,\n",
    "            linewidths=0.1,vmax=1.0, linecolor='white',\n",
    "            annot_kws={'fontsize':12 })\n",
    "plt.show()"
   ]
  },
  {
   "cell_type": "code",
   "execution_count": 77,
   "id": "46086e42",
   "metadata": {
    "ExecuteTime": {
     "end_time": "2022-09-12T07:46:22.908513Z",
     "start_time": "2022-09-12T07:46:22.897540Z"
    }
   },
   "outputs": [
    {
     "data": {
      "text/plain": [
       "Index(['permalink', 'category_code', 'status', 'logo_width', 'logo_height',\n",
       "       'region', 'investment_rounds', 'invested_companies', 'funding_rounds',\n",
       "       'funding_total_usd', 'milestones', 'relationships', 'created_at',\n",
       "       'updated_at', 'lat', 'lng'],\n",
       "      dtype='object')"
      ]
     },
     "execution_count": 77,
     "metadata": {},
     "output_type": "execute_result"
    }
   ],
   "source": [
    "company.columns"
   ]
  },
  {
   "cell_type": "code",
   "execution_count": 78,
   "id": "b9fedc91",
   "metadata": {
    "ExecuteTime": {
     "end_time": "2022-09-12T07:46:40.617002Z",
     "start_time": "2022-09-12T07:46:38.711059Z"
    }
   },
   "outputs": [
    {
     "data": {
      "text/plain": [
       "Text(0, 0.5, 'Logo Height')"
      ]
     },
     "execution_count": 78,
     "metadata": {},
     "output_type": "execute_result"
    },
    {
     "data": {
      "image/png": "[encoded data removed]",
      "text/plain": [
       "<Figure size 720x720 with 1 Axes>"
      ]
     },
     "metadata": {},
     "output_type": "display_data"
    }
   ],
   "source": [
    "plt.figure(figsize=(10,10))\n",
    "plt.scatter(x='logo_width',y='logo_height',data=company)\n",
    "plt.xlabel('Logo Width')\n",
    "plt.ylabel('Logo Height')"
   ]
  },
  {
   "cell_type": "code",
   "execution_count": 81,
   "id": "096dce0c",
   "metadata": {
    "ExecuteTime": {
     "end_time": "2022-09-12T07:47:57.162656Z",
     "start_time": "2022-09-12T07:47:57.129642Z"
    }
   },
   "outputs": [
    {
     "data": {
      "text/plain": [
       "ipo            1134\n",
       "closed         2584\n",
       "acquired       9394\n",
       "operating    183441\n",
       "Name: status, dtype: int64"
      ]
     },
     "execution_count": 81,
     "metadata": {},
     "output_type": "execute_result"
    }
   ],
   "source": [
    "company.status.value_counts().sort_values(ascending=True)"
   ]
  },
  {
   "cell_type": "code",
   "execution_count": 96,
   "id": "056c0977",
   "metadata": {
    "ExecuteTime": {
     "end_time": "2022-09-12T07:58:03.765336Z",
     "start_time": "2022-09-12T07:58:03.020273Z"
    }
   },
   "outputs": [
    {
     "data": {
      "text/plain": [
       "<AxesSubplot:xlabel='milestones', ylabel='status'>"
      ]
     },
     "execution_count": 96,
     "metadata": {},
     "output_type": "execute_result"
    },
    {
     "data": {
      "image/png": "[encoded data removed]",
      "text/plain": [
       "<Figure size 432x288 with 1 Axes>"
      ]
     },
     "metadata": {},
     "output_type": "display_data"
    }
   ],
   "source": [
    "sns.boxplot(x='milestones',y='status',data=company)"
   ]
  },
  {
   "cell_type": "code",
   "execution_count": 98,
   "id": "a9498733",
   "metadata": {
    "ExecuteTime": {
     "end_time": "2022-09-12T07:58:27.948048Z",
     "start_time": "2022-09-12T07:58:25.646202Z"
    }
   },
   "outputs": [
    {
     "data": {
      "text/plain": [
       "Text(0, 0.5, 'Investment Rounds')"
      ]
     },
     "execution_count": 98,
     "metadata": {},
     "output_type": "execute_result"
    },
    {
     "data": {
      "image/png": "[encoded data removed]",
      "text/plain": [
       "<Figure size 720x720 with 1 Axes>"
      ]
     },
     "metadata": {},
     "output_type": "display_data"
    }
   ],
   "source": [
    "plt.figure(figsize=(10,10))\n",
    "plt.scatter(x='invested_companies',y='investment_rounds',data=company,c='blue',marker='o',s=70)\n",
    "plt.xlabel('Invested Companies')\n",
    "plt.ylabel('Investment Rounds')"
   ]
  },
  {
   "cell_type": "code",
   "execution_count": 100,
   "id": "6fdfe011",
   "metadata": {
    "ExecuteTime": {
     "end_time": "2022-09-12T07:58:54.298485Z",
     "start_time": "2022-09-12T07:58:53.670164Z"
    }
   },
   "outputs": [
    {
     "data": {
      "text/plain": [
       "<AxesSubplot:xlabel='relationships', ylabel='status'>"
      ]
     },
     "execution_count": 100,
     "metadata": {},
     "output_type": "execute_result"
    },
    {
     "data": {
      "image/png": "[encoded data removed]",
      "text/plain": [
       "<Figure size 432x288 with 1 Axes>"
      ]
     },
     "metadata": {},
     "output_type": "display_data"
    }
   ],
   "source": [
    "sns.boxplot(x='relationships',y='status',data=company)"
   ]
  },
  {
   "cell_type": "code",
   "execution_count": 101,
   "id": "f0906f46",
   "metadata": {
    "ExecuteTime": {
     "end_time": "2022-09-12T07:59:19.635430Z",
     "start_time": "2022-09-12T07:59:17.208703Z"
    }
   },
   "outputs": [
    {
     "data": {
      "text/plain": [
       "Text(0, 0.5, 'Funding Rounds')"
      ]
     },
     "execution_count": 101,
     "metadata": {},
     "output_type": "execute_result"
    },
    {
     "data": {
      "image/png": "[encoded data removed]",
      "text/plain": [
       "<Figure size 720x720 with 1 Axes>"
      ]
     },
     "metadata": {},
     "output_type": "display_data"
    }
   ],
   "source": [
    "plt.figure(figsize=(10,10))\n",
    "plt.scatter(x='funding_total_usd',y='funding_rounds',data=company,c='red',marker='o',s=50)\n",
    "plt.xlabel('Funding Total USD')\n",
    "plt.ylabel('Funding Rounds')"
   ]
  },
  {
   "cell_type": "code",
   "execution_count": 103,
   "id": "1b2ba82a",
   "metadata": {
    "ExecuteTime": {
     "end_time": "2022-09-12T07:59:42.267993Z",
     "start_time": "2022-09-12T07:59:41.215775Z"
    }
   },
   "outputs": [
    {
     "data": {
      "text/plain": [
       "Text(0, 0.5, 'Longitude')"
      ]
     },
     "execution_count": 103,
     "metadata": {},
     "output_type": "execute_result"
    },
    {
     "data": {
      "image/png": "[encoded data removed]",
      "text/plain": [
       "<Figure size 720x720 with 1 Axes>"
      ]
     },
     "metadata": {},
     "output_type": "display_data"
    }
   ],
   "source": [
    "plt.figure(figsize=(10,10))\n",
    "plt.scatter(x='lat',y='lng',data=company,c='purple',marker='.')\n",
    "plt.xlabel('Lattitude')\n",
    "plt.ylabel('Longitude')"
   ]
  },
  {
   "cell_type": "code",
   "execution_count": 105,
   "id": "3a524dbd",
   "metadata": {
    "ExecuteTime": {
     "end_time": "2022-09-12T08:00:11.230265Z",
     "start_time": "2022-09-12T08:00:09.907796Z"
    }
   },
   "outputs": [
    {
     "data": {
      "text/plain": [
       "<AxesSubplot:xlabel='lat', ylabel='Count'>"
      ]
     },
     "execution_count": 105,
     "metadata": {},
     "output_type": "execute_result"
    },
    {
     "data": {
      "image/png": "[encoded data removed]",
      "text/plain": [
       "<Figure size 432x288 with 1 Axes>"
      ]
     },
     "metadata": {},
     "output_type": "display_data"
    }
   ],
   "source": [
    "sns.histplot(data=company, x='lat', bins=30, hue='status')"
   ]
  },
  {
   "cell_type": "code",
   "execution_count": null,
   "id": "5116d56d",
   "metadata": {},
   "outputs": [],
   "source": []
  },
  {
   "cell_type": "code",
   "execution_count": null,
   "id": "5f0d81b8",
   "metadata": {},
   "outputs": [],
   "source": []
  }
 ],
 "metadata": {
  "kernelspec": {
   "display_name": "Python 3 (ipykernel)",
   "language": "python",
   "name": "python3"
  },
  "language_info": {
   "codemirror_mode": {
    "name": "ipython",
    "version": 3
   },
   "file_extension": ".py",
   "mimetype": "text/x-python",
   "name": "python",
   "nbconvert_exporter": "python",
   "pygments_lexer": "ipython3",
   "version": "3.10.6"
  }
 },
 "nbformat": 4,
 "nbformat_minor": 5
}
